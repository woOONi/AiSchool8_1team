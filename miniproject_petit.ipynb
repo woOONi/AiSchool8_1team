{
  "cells": [
    {
      "cell_type": "markdown",
      "metadata": {
        "id": "view-in-github",
        "colab_type": "text"
      },
      "source": [
        "<a href=\"https://colab.research.google.com/github/woOONi/AiSchool8_1team/blob/main/miniproject_petit.ipynb\" target=\"_parent\"><img src=\"https://colab.research.google.com/assets/colab-badge.svg\" alt=\"Open In Colab\"/></a>"
      ]
    },
    {
      "cell_type": "markdown",
      "metadata": {
        "id": "-EtWj_UxmjNz"
      },
      "source": [
        "# MINI PROJECT1 Web scraping\n",
        "🔗 주소 : https://petitions.assembly.go.kr/closed/agreeEnded\n"
      ]
    },
    {
      "cell_type": "markdown",
      "metadata": {
        "id": "8LRcmbKF6gDj"
      },
      "source": [
        "# 데이터 수집"
      ]
    },
    {
      "cell_type": "markdown",
      "metadata": {
        "id": "lwr9NMv76gDk"
      },
      "source": [
        "## 라이브러리 불러오기\n"
      ]
    },
    {
      "cell_type": "code",
      "execution_count": null,
      "metadata": {
        "id": "OlOF2jgbUWua"
      },
      "outputs": [],
      "source": [
        "import pandas as pd\n",
        "import requests\n",
        "import time"
      ]
    },
    {
      "cell_type": "markdown",
      "metadata": {
        "id": "_qpKznfknmMB"
      },
      "source": [
        "## 주소 불러오기\n",
        "1. url 부르기\n",
        "2. url 확인하기\n",
        "- html (x)\n",
        "- json (o)\n",
        "3. json 주소로 부르기\n",
        "\n",
        "✅ 청원 조건 정리(json 파라미터 정리)\n",
        "1. 시작일 2022.01.01\n",
        "2. 종료일 2022.12.31\n",
        "3. 전체 청원 종류 다 가져오기\n"
      ]
    },
    {
      "cell_type": "markdown",
      "metadata": {
        "id": "r9lHUr8XpzM8"
      },
      "source": [
        "## json으로 데이터 프레임 만들기"
      ]
    },
    {
      "cell_type": "code",
      "execution_count": null,
      "metadata": {
        "id": "i2LxULq-m3l-"
      },
      "outputs": [],
      "source": [
        "# url 불러오기\n",
        "page_no = 1\n",
        "url = f'https://petitions.assembly.go.kr/api/petits?pageIndex={page_no}&recordCountPerPage=8&sort=AGRE_END_DE-&beginDate=20220101&endDate=20221231'"
      ]
    },
    {
      "cell_type": "code",
      "execution_count": null,
      "metadata": {
        "colab": {
          "base_uri": "https://localhost:8080/",
          "height": 393
        },
        "id": "lKaferPTiVxO",
        "outputId": "322caa7d-d295-4670-872c-8148b21427aa"
      },
      "outputs": [
        {
          "data": {
            "text/html": [
              "<div>\n",
              "<style scoped>\n",
              "    .dataframe tbody tr th:only-of-type {\n",
              "        vertical-align: middle;\n",
              "    }\n",
              "\n",
              "    .dataframe tbody tr th {\n",
              "        vertical-align: top;\n",
              "    }\n",
              "\n",
              "    .dataframe thead th {\n",
              "        text-align: right;\n",
              "    }\n",
              "</style>\n",
              "<table border=\"1\" class=\"dataframe\">\n",
              "  <thead>\n",
              "    <tr style=\"text-align: right;\">\n",
              "      <th></th>\n",
              "      <th>rowNum</th>\n",
              "      <th>searchCondition</th>\n",
              "      <th>searchKeyword</th>\n",
              "      <th>pageIndex</th>\n",
              "      <th>pageUnit</th>\n",
              "      <th>firstIndex</th>\n",
              "      <th>lastIndex</th>\n",
              "      <th>recordCountPerPage</th>\n",
              "      <th>tableName</th>\n",
              "      <th>prefix</th>\n",
              "      <th>...</th>\n",
              "      <th>billId</th>\n",
              "      <th>currCommittee</th>\n",
              "      <th>currCommitteeId</th>\n",
              "      <th>committeeDt</th>\n",
              "      <th>billProcessDc</th>\n",
              "      <th>comments</th>\n",
              "      <th>likmsAt</th>\n",
              "      <th>trnsfInstt</th>\n",
              "      <th>trnsfRm</th>\n",
              "      <th>addDays</th>\n",
              "    </tr>\n",
              "  </thead>\n",
              "  <tbody>\n",
              "    <tr>\n",
              "      <th>0</th>\n",
              "      <td>1</td>\n",
              "      <td></td>\n",
              "      <td></td>\n",
              "      <td>1</td>\n",
              "      <td>10</td>\n",
              "      <td>1</td>\n",
              "      <td>1</td>\n",
              "      <td>10</td>\n",
              "      <td></td>\n",
              "      <td></td>\n",
              "      <td>...</td>\n",
              "      <td>NaN</td>\n",
              "      <td>NaN</td>\n",
              "      <td>NaN</td>\n",
              "      <td>NaN</td>\n",
              "      <td>NaN</td>\n",
              "      <td>NaN</td>\n",
              "      <td>NaN</td>\n",
              "      <td>NaN</td>\n",
              "      <td>NaN</td>\n",
              "      <td>0</td>\n",
              "    </tr>\n",
              "    <tr>\n",
              "      <th>1</th>\n",
              "      <td>2</td>\n",
              "      <td></td>\n",
              "      <td></td>\n",
              "      <td>1</td>\n",
              "      <td>10</td>\n",
              "      <td>1</td>\n",
              "      <td>1</td>\n",
              "      <td>10</td>\n",
              "      <td></td>\n",
              "      <td></td>\n",
              "      <td>...</td>\n",
              "      <td>NaN</td>\n",
              "      <td>NaN</td>\n",
              "      <td>NaN</td>\n",
              "      <td>NaN</td>\n",
              "      <td>NaN</td>\n",
              "      <td>NaN</td>\n",
              "      <td>NaN</td>\n",
              "      <td>NaN</td>\n",
              "      <td>NaN</td>\n",
              "      <td>0</td>\n",
              "    </tr>\n",
              "    <tr>\n",
              "      <th>2</th>\n",
              "      <td>3</td>\n",
              "      <td></td>\n",
              "      <td></td>\n",
              "      <td>1</td>\n",
              "      <td>10</td>\n",
              "      <td>1</td>\n",
              "      <td>1</td>\n",
              "      <td>10</td>\n",
              "      <td></td>\n",
              "      <td></td>\n",
              "      <td>...</td>\n",
              "      <td>NaN</td>\n",
              "      <td>NaN</td>\n",
              "      <td>NaN</td>\n",
              "      <td>NaN</td>\n",
              "      <td>NaN</td>\n",
              "      <td>NaN</td>\n",
              "      <td>NaN</td>\n",
              "      <td>NaN</td>\n",
              "      <td>NaN</td>\n",
              "      <td>0</td>\n",
              "    </tr>\n",
              "    <tr>\n",
              "      <th>3</th>\n",
              "      <td>4</td>\n",
              "      <td></td>\n",
              "      <td></td>\n",
              "      <td>1</td>\n",
              "      <td>10</td>\n",
              "      <td>1</td>\n",
              "      <td>1</td>\n",
              "      <td>10</td>\n",
              "      <td></td>\n",
              "      <td></td>\n",
              "      <td>...</td>\n",
              "      <td>NaN</td>\n",
              "      <td>NaN</td>\n",
              "      <td>NaN</td>\n",
              "      <td>NaN</td>\n",
              "      <td>NaN</td>\n",
              "      <td>NaN</td>\n",
              "      <td>NaN</td>\n",
              "      <td>NaN</td>\n",
              "      <td>NaN</td>\n",
              "      <td>0</td>\n",
              "    </tr>\n",
              "    <tr>\n",
              "      <th>4</th>\n",
              "      <td>5</td>\n",
              "      <td></td>\n",
              "      <td></td>\n",
              "      <td>1</td>\n",
              "      <td>10</td>\n",
              "      <td>1</td>\n",
              "      <td>1</td>\n",
              "      <td>10</td>\n",
              "      <td></td>\n",
              "      <td></td>\n",
              "      <td>...</td>\n",
              "      <td>NaN</td>\n",
              "      <td>NaN</td>\n",
              "      <td>NaN</td>\n",
              "      <td>NaN</td>\n",
              "      <td>NaN</td>\n",
              "      <td>NaN</td>\n",
              "      <td>NaN</td>\n",
              "      <td>NaN</td>\n",
              "      <td>NaN</td>\n",
              "      <td>0</td>\n",
              "    </tr>\n",
              "    <tr>\n",
              "      <th>5</th>\n",
              "      <td>6</td>\n",
              "      <td></td>\n",
              "      <td></td>\n",
              "      <td>1</td>\n",
              "      <td>10</td>\n",
              "      <td>1</td>\n",
              "      <td>1</td>\n",
              "      <td>10</td>\n",
              "      <td></td>\n",
              "      <td></td>\n",
              "      <td>...</td>\n",
              "      <td>NaN</td>\n",
              "      <td>NaN</td>\n",
              "      <td>NaN</td>\n",
              "      <td>NaN</td>\n",
              "      <td>NaN</td>\n",
              "      <td>NaN</td>\n",
              "      <td>NaN</td>\n",
              "      <td>NaN</td>\n",
              "      <td>NaN</td>\n",
              "      <td>0</td>\n",
              "    </tr>\n",
              "    <tr>\n",
              "      <th>6</th>\n",
              "      <td>7</td>\n",
              "      <td></td>\n",
              "      <td></td>\n",
              "      <td>1</td>\n",
              "      <td>10</td>\n",
              "      <td>1</td>\n",
              "      <td>1</td>\n",
              "      <td>10</td>\n",
              "      <td></td>\n",
              "      <td></td>\n",
              "      <td>...</td>\n",
              "      <td>NaN</td>\n",
              "      <td>NaN</td>\n",
              "      <td>NaN</td>\n",
              "      <td>NaN</td>\n",
              "      <td>NaN</td>\n",
              "      <td>NaN</td>\n",
              "      <td>NaN</td>\n",
              "      <td>NaN</td>\n",
              "      <td>NaN</td>\n",
              "      <td>0</td>\n",
              "    </tr>\n",
              "    <tr>\n",
              "      <th>7</th>\n",
              "      <td>8</td>\n",
              "      <td></td>\n",
              "      <td></td>\n",
              "      <td>1</td>\n",
              "      <td>10</td>\n",
              "      <td>1</td>\n",
              "      <td>1</td>\n",
              "      <td>10</td>\n",
              "      <td></td>\n",
              "      <td></td>\n",
              "      <td>...</td>\n",
              "      <td>NaN</td>\n",
              "      <td>NaN</td>\n",
              "      <td>NaN</td>\n",
              "      <td>NaN</td>\n",
              "      <td>NaN</td>\n",
              "      <td>NaN</td>\n",
              "      <td>NaN</td>\n",
              "      <td>NaN</td>\n",
              "      <td>NaN</td>\n",
              "      <td>0</td>\n",
              "    </tr>\n",
              "  </tbody>\n",
              "</table>\n",
              "<p>8 rows × 99 columns</p>\n",
              "</div>"
            ],
            "text/plain": [
              "   rowNum searchCondition searchKeyword  pageIndex  pageUnit  firstIndex  \\\n",
              "0       1                                        1        10           1   \n",
              "1       2                                        1        10           1   \n",
              "2       3                                        1        10           1   \n",
              "3       4                                        1        10           1   \n",
              "4       5                                        1        10           1   \n",
              "5       6                                        1        10           1   \n",
              "6       7                                        1        10           1   \n",
              "7       8                                        1        10           1   \n",
              "\n",
              "   lastIndex  recordCountPerPage tableName prefix  ... billId  currCommittee  \\\n",
              "0          1                  10                   ...    NaN            NaN   \n",
              "1          1                  10                   ...    NaN            NaN   \n",
              "2          1                  10                   ...    NaN            NaN   \n",
              "3          1                  10                   ...    NaN            NaN   \n",
              "4          1                  10                   ...    NaN            NaN   \n",
              "5          1                  10                   ...    NaN            NaN   \n",
              "6          1                  10                   ...    NaN            NaN   \n",
              "7          1                  10                   ...    NaN            NaN   \n",
              "\n",
              "   currCommitteeId committeeDt  billProcessDc  comments likmsAt  trnsfInstt  \\\n",
              "0              NaN         NaN            NaN       NaN     NaN         NaN   \n",
              "1              NaN         NaN            NaN       NaN     NaN         NaN   \n",
              "2              NaN         NaN            NaN       NaN     NaN         NaN   \n",
              "3              NaN         NaN            NaN       NaN     NaN         NaN   \n",
              "4              NaN         NaN            NaN       NaN     NaN         NaN   \n",
              "5              NaN         NaN            NaN       NaN     NaN         NaN   \n",
              "6              NaN         NaN            NaN       NaN     NaN         NaN   \n",
              "7              NaN         NaN            NaN       NaN     NaN         NaN   \n",
              "\n",
              "  trnsfRm addDays  \n",
              "0     NaN       0  \n",
              "1     NaN       0  \n",
              "2     NaN       0  \n",
              "3     NaN       0  \n",
              "4     NaN       0  \n",
              "5     NaN       0  \n",
              "6     NaN       0  \n",
              "7     NaN       0  \n",
              "\n",
              "[8 rows x 99 columns]"
            ]
          },
          "execution_count": 3,
          "metadata": {},
          "output_type": "execute_result"
        }
      ],
      "source": [
        "# 판다스로 json 가져오기\n",
        "df_json = pd.read_json(url, encoding='utf-8')\n",
        "df_json"
      ]
    },
    {
      "cell_type": "code",
      "execution_count": null,
      "metadata": {
        "colab": {
          "base_uri": "https://localhost:8080/"
        },
        "id": "w3dFa2R9l0VP",
        "outputId": "179a8ef3-790c-4ff1-fc09-256dc62ad65d"
      },
      "outputs": [
        {
          "data": {
            "text/plain": [
              "Index(['rowNum', 'searchCondition', 'searchKeyword', 'pageIndex', 'pageUnit',\n",
              "       'firstIndex', 'lastIndex', 'recordCountPerPage', 'tableName', 'prefix',\n",
              "       'sort', 'creatIp', 'creatId', 'creatDt', 'updtIp', 'updtId', 'updtDt',\n",
              "       'petitTmprSn', 'hashtagCn', 'referUrlCn', 'beginDate', 'endDate',\n",
              "       'ageCd', 'petitId', 'mberId', 'mberIdList', 'memberId', 'petrNm',\n",
              "       'petitSj', 'petitObjet', 'petitReason', 'petitCn', 'petitRealmCode',\n",
              "       'petitRealmCodeArray', 'petitRealmNm', 'petitRealmDetailCode',\n",
              "       'petitRealmDetailNm', 'jrsdCmitCode', 'jrsdCmitCodeArray', 'jrsdCmitNm',\n",
              "       'sttusCode', 'sttusCodeNm', 'sttusCodeArray', 'resultCode',\n",
              "       'resultCodeArray', 'resultCodeNm', 'jdgmnStepCode',\n",
              "       'jdgmnStepCodeArray', 'jdgmnStepCodeNm', 'petitUnacptCode',\n",
              "       'petitUnacptCodeNm', 'petitUnacptCodeDc', 'petitUnacptRm',\n",
              "       'petitRegistDt', 'petitOthbcDt', 'petitEndDt', 'petitRceptDt',\n",
              "       'cmitFrwrdDt', 'apprvlBeginDe', 'apprvlEndDe', 'agreBeginDe',\n",
              "       'agreEndDe', 'unacptJdgmnClosDe', 'agreCo', 'forumEstblAt',\n",
              "       'fileInfoId', 'referUrlList', 'hashtagList', 'view', 'isTemp',\n",
              "       'notInColumn', 'isFile', 'fileInfoList', 'fileAllCount', 'wthdrawId',\n",
              "       'wthdrawReason', 'wthdrawRequstDt', 'wthdrawRceptCode',\n",
              "       'wthdrawRceptDt', 'wthdrawRceptRm', 'fobjctId', 'fobjctCn',\n",
              "       'fobjctRequstDt', 'fobjctRceptCode', 'fobjctRceptRm', 'apprvlPeriod',\n",
              "       'agrePeriod', 'openNmpr', 'mtzNmpr', 'billId', 'currCommittee',\n",
              "       'currCommitteeId', 'committeeDt', 'billProcessDc', 'comments',\n",
              "       'likmsAt', 'trnsfInstt', 'trnsfRm', 'addDays'],\n",
              "      dtype='object')"
            ]
          },
          "execution_count": 4,
          "metadata": {},
          "output_type": "execute_result"
        }
      ],
      "source": [
        "# 필요한 column 확인하기\n",
        "df_json.columns\n",
        "# petitId : 청원 하나 주소 파라미터. / petitSj : 청원 제목 / petitCn : 청원 내용 / petitRealmNm : 청원분야 \n",
        "# resultCodeNm : 청원 결과 / agreCo : 동의 수 / agreBeginDe : 청원 시작일 / agreEndDe : 청원 만료일 "
      ]
    },
    {
      "cell_type": "code",
      "execution_count": null,
      "metadata": {
        "colab": {
          "base_uri": "https://localhost:8080/",
          "height": 639
        },
        "id": "RS0RIGAfmmRL",
        "outputId": "618ad702-b650-41fe-91e9-60a43b9fbff6"
      },
      "outputs": [
        {
          "data": {
            "text/html": [
              "<div>\n",
              "<style scoped>\n",
              "    .dataframe tbody tr th:only-of-type {\n",
              "        vertical-align: middle;\n",
              "    }\n",
              "\n",
              "    .dataframe tbody tr th {\n",
              "        vertical-align: top;\n",
              "    }\n",
              "\n",
              "    .dataframe thead th {\n",
              "        text-align: right;\n",
              "    }\n",
              "</style>\n",
              "<table border=\"1\" class=\"dataframe\">\n",
              "  <thead>\n",
              "    <tr style=\"text-align: right;\">\n",
              "      <th></th>\n",
              "      <th>ID</th>\n",
              "      <th>청원 분야</th>\n",
              "      <th>청원 제목</th>\n",
              "      <th>청원 내용</th>\n",
              "      <th>청원 시작일</th>\n",
              "      <th>청원 종료일</th>\n",
              "      <th>동의 수</th>\n",
              "      <th>청원 결과</th>\n",
              "    </tr>\n",
              "  </thead>\n",
              "  <tbody>\n",
              "    <tr>\n",
              "      <th>0</th>\n",
              "      <td>E1F0409853F96C45E054B49691C1987F</td>\n",
              "      <td>보건의료</td>\n",
              "      <td>간호법 제정에 관한 청원</td>\n",
              "      <td>현재 96개국에 '간호법'이 있고, OECD 국가 38개국 중 미국을 포함한 33개...</td>\n",
              "      <td>2022-11-30 09:52:59</td>\n",
              "      <td>2022-12-30 23:59:59</td>\n",
              "      <td>177</td>\n",
              "      <td>동의만료폐기</td>\n",
              "    </tr>\n",
              "    <tr>\n",
              "      <th>1</th>\n",
              "      <td>E2059AE3B2344B1BE054B49691C1987F</td>\n",
              "      <td>국토/해양/교통</td>\n",
              "      <td>모든 학원, 상가 복도 cctv 의무화에 관한 청원</td>\n",
              "      <td>안녕하세요.\\n봉담읍에 사는 초등학생  아이를 둔 엄마입니다.\\n저희아이는 학원강의...</td>\n",
              "      <td>2022-11-30 09:53:21</td>\n",
              "      <td>2022-12-30 23:59:59</td>\n",
              "      <td>283</td>\n",
              "      <td>동의만료폐기</td>\n",
              "    </tr>\n",
              "    <tr>\n",
              "      <th>2</th>\n",
              "      <td>E1F0409854026C45E054B49691C1987F</td>\n",
              "      <td>국토/해양/교통</td>\n",
              "      <td>인천 미추홀구뿐만 아니라 전국적인 ‘나 홀로 아파트, 빌라’ 전세사기에 관한 청원</td>\n",
              "      <td>○ 문제점\\r\\n낙찰자가 생겨 곧 퇴거해야하는 피해자들을 위한 ‘전세사기피해지원센터...</td>\n",
              "      <td>2022-11-30 09:52:01</td>\n",
              "      <td>2022-12-30 23:59:59</td>\n",
              "      <td>2250</td>\n",
              "      <td>동의만료폐기</td>\n",
              "    </tr>\n",
              "    <tr>\n",
              "      <th>3</th>\n",
              "      <td>EB0E1E2D986D1CA1E054B49691C1987F</td>\n",
              "      <td>저출산/고령화/아동/청소년/가족</td>\n",
              "      <td>난임부부지원 횟수의 확대 및 시험관 지원에 관한 청원</td>\n",
              "      <td>저는 아직 시험관을 시작하지 않은 결혼 2년차인 여성입니다.\\r\\n \\r\\n늦은 결...</td>\n",
              "      <td>2022-11-28 16:37:29</td>\n",
              "      <td>2022-12-28 23:59:59</td>\n",
              "      <td>567</td>\n",
              "      <td>동의만료폐기</td>\n",
              "    </tr>\n",
              "    <tr>\n",
              "      <th>4</th>\n",
              "      <td>E203F8AB7F384B18E054B49691C1987F</td>\n",
              "      <td>재정/세제/금융/예산</td>\n",
              "      <td>가상자산 위믹스 코인 거래지원종료에 관한 DAXA의 처리 투명성과 갑질논란에 관한 청원</td>\n",
              "      <td>한국 거래소협회 DAXA는 10월27일 계획유통량과 실제유통량의 차이를 원인으로 삼...</td>\n",
              "      <td>2022-11-28 16:40:33</td>\n",
              "      <td>2022-12-28 23:59:59</td>\n",
              "      <td>6165</td>\n",
              "      <td>동의만료폐기</td>\n",
              "    </tr>\n",
              "    <tr>\n",
              "      <th>5</th>\n",
              "      <td>E1F01D9BE93A6C4BE054B49691C1987F</td>\n",
              "      <td>보건의료</td>\n",
              "      <td>크론병을 앓고 있는 아들의 건강보험 적용 요청에 관한 청원</td>\n",
              "      <td>저의 아들은 크론병을 앓고 있습니다.\\r\\n크론병 치료나 완화에 사용되는 약 또는 ...</td>\n",
              "      <td>2022-11-28 16:39:26</td>\n",
              "      <td>2022-12-28 23:59:59</td>\n",
              "      <td>650</td>\n",
              "      <td>동의만료폐기</td>\n",
              "    </tr>\n",
              "    <tr>\n",
              "      <th>6</th>\n",
              "      <td>E1F0409853F26C45E054B49691C1987F</td>\n",
              "      <td>보건의료</td>\n",
              "      <td>난치성 편두통 환자를 위한 CGRP 표적 치료제의 급여혜택 강화 촉구에 관한 청원</td>\n",
              "      <td>건강보험심사평가원에서 공개한 고시 자료[1]를 보면 대상 질환의 특성으로서 \"삽화편...</td>\n",
              "      <td>2022-11-28 16:39:49</td>\n",
              "      <td>2022-12-28 23:59:59</td>\n",
              "      <td>524</td>\n",
              "      <td>동의만료폐기</td>\n",
              "    </tr>\n",
              "    <tr>\n",
              "      <th>7</th>\n",
              "      <td>E1F0409853DF6C45E054B49691C1987F</td>\n",
              "      <td>재난/안전/환경</td>\n",
              "      <td>기업의 과대포장에 관한 청원</td>\n",
              "      <td>환경 문제가 날이 갈수록 심화되고 있습니다. 세계가 노력하고 있지만 여전히 부족하며...</td>\n",
              "      <td>2022-11-28 16:37:57</td>\n",
              "      <td>2022-12-28 23:59:59</td>\n",
              "      <td>157</td>\n",
              "      <td>동의만료폐기</td>\n",
              "    </tr>\n",
              "  </tbody>\n",
              "</table>\n",
              "</div>"
            ],
            "text/plain": [
              "                                 ID              청원 분야  \\\n",
              "0  E1F0409853F96C45E054B49691C1987F               보건의료   \n",
              "1  E2059AE3B2344B1BE054B49691C1987F           국토/해양/교통   \n",
              "2  E1F0409854026C45E054B49691C1987F           국토/해양/교통   \n",
              "3  EB0E1E2D986D1CA1E054B49691C1987F  저출산/고령화/아동/청소년/가족   \n",
              "4  E203F8AB7F384B18E054B49691C1987F        재정/세제/금융/예산   \n",
              "5  E1F01D9BE93A6C4BE054B49691C1987F               보건의료   \n",
              "6  E1F0409853F26C45E054B49691C1987F               보건의료   \n",
              "7  E1F0409853DF6C45E054B49691C1987F           재난/안전/환경   \n",
              "\n",
              "                                              청원 제목  \\\n",
              "0                                     간호법 제정에 관한 청원   \n",
              "1                      모든 학원, 상가 복도 cctv 의무화에 관한 청원   \n",
              "2     인천 미추홀구뿐만 아니라 전국적인 ‘나 홀로 아파트, 빌라’ 전세사기에 관한 청원   \n",
              "3                     난임부부지원 횟수의 확대 및 시험관 지원에 관한 청원   \n",
              "4  가상자산 위믹스 코인 거래지원종료에 관한 DAXA의 처리 투명성과 갑질논란에 관한 청원   \n",
              "5                  크론병을 앓고 있는 아들의 건강보험 적용 요청에 관한 청원   \n",
              "6     난치성 편두통 환자를 위한 CGRP 표적 치료제의 급여혜택 강화 촉구에 관한 청원   \n",
              "7                                   기업의 과대포장에 관한 청원   \n",
              "\n",
              "                                               청원 내용               청원 시작일  \\\n",
              "0  현재 96개국에 '간호법'이 있고, OECD 국가 38개국 중 미국을 포함한 33개...  2022-11-30 09:52:59   \n",
              "1  안녕하세요.\\n봉담읍에 사는 초등학생  아이를 둔 엄마입니다.\\n저희아이는 학원강의...  2022-11-30 09:53:21   \n",
              "2  ○ 문제점\\r\\n낙찰자가 생겨 곧 퇴거해야하는 피해자들을 위한 ‘전세사기피해지원센터...  2022-11-30 09:52:01   \n",
              "3  저는 아직 시험관을 시작하지 않은 결혼 2년차인 여성입니다.\\r\\n \\r\\n늦은 결...  2022-11-28 16:37:29   \n",
              "4  한국 거래소협회 DAXA는 10월27일 계획유통량과 실제유통량의 차이를 원인으로 삼...  2022-11-28 16:40:33   \n",
              "5  저의 아들은 크론병을 앓고 있습니다.\\r\\n크론병 치료나 완화에 사용되는 약 또는 ...  2022-11-28 16:39:26   \n",
              "6  건강보험심사평가원에서 공개한 고시 자료[1]를 보면 대상 질환의 특성으로서 \"삽화편...  2022-11-28 16:39:49   \n",
              "7  환경 문제가 날이 갈수록 심화되고 있습니다. 세계가 노력하고 있지만 여전히 부족하며...  2022-11-28 16:37:57   \n",
              "\n",
              "                청원 종료일  동의 수   청원 결과  \n",
              "0  2022-12-30 23:59:59   177  동의만료폐기  \n",
              "1  2022-12-30 23:59:59   283  동의만료폐기  \n",
              "2  2022-12-30 23:59:59  2250  동의만료폐기  \n",
              "3  2022-12-28 23:59:59   567  동의만료폐기  \n",
              "4  2022-12-28 23:59:59  6165  동의만료폐기  \n",
              "5  2022-12-28 23:59:59   650  동의만료폐기  \n",
              "6  2022-12-28 23:59:59   524  동의만료폐기  \n",
              "7  2022-12-28 23:59:59   157  동의만료폐기  "
            ]
          },
          "execution_count": 5,
          "metadata": {},
          "output_type": "execute_result"
        }
      ],
      "source": [
        "# 필요한 컬럼들만 불러오기\n",
        "df_json = df_json[['petitId', 'petitRealmNm', 'petitSj', 'petitCn', 'agreBeginDe', 'agreEndDe', 'agreCo', 'resultCodeNm']]\n",
        "cols = ['ID','청원 분야', '청원 제목', '청원 내용', '청원 시작일', '청원 종료일', '동의 수', '청원 결과']\n",
        "df_json.columns = cols\n",
        "df_json"
      ]
    },
    {
      "cell_type": "markdown",
      "metadata": {
        "id": "LlpnlH9Ypxn2"
      },
      "source": [
        "## 청원의 취지 가져오는 함수만들기\n",
        "### requests로 해보기\n",
        "1. 청원의 취지는 html로 해보기\n",
        "2. requests를 이용하여 응답 받음 (get 방식) <- 실패\n",
        "3. beautifulSoup을 이용하여 취지 내용을 가져올 것\n"
      ]
    },
    {
      "cell_type": "code",
      "execution_count": null,
      "metadata": {
        "colab": {
          "base_uri": "https://localhost:8080/"
        },
        "id": "-cYxh_r0p5FH",
        "outputId": "c3eb62be-b22e-4cca-95fc-b7fa759f9293"
      },
      "outputs": [
        {
          "name": "stdout",
          "output_type": "stream",
          "text": [
            "https://petitions.assembly.go.kr/closed/agreeEnded/E1F0409853F96C45E054B49691C1987F\n"
          ]
        }
      ],
      "source": [
        "# 청원 페이지 주소 만들기\n",
        "url_effet = 'https://petitions.assembly.go.kr/closed/agreeEnded/'\n",
        "petit = df_json['ID'][0]\n",
        "url_petit_1 = url_effet+petit\n",
        "print(url_petit_1)"
      ]
    },
    {
      "cell_type": "code",
      "execution_count": null,
      "metadata": {
        "colab": {
          "base_uri": "https://localhost:8080/"
        },
        "id": "2PKSjHFIpHxw",
        "outputId": "e8940b76-e513-4996-d94b-54c641285f06"
      },
      "outputs": [
        {
          "data": {
            "text/plain": [
              "404"
            ]
          },
          "execution_count": 7,
          "metadata": {},
          "output_type": "execute_result"
        }
      ],
      "source": [
        "# reqeusts 응답 받기\n",
        "reponse = requests.get(url_petit_1)\n",
        "reponse.status_code # 거부당함"
      ]
    },
    {
      "cell_type": "code",
      "execution_count": null,
      "metadata": {
        "colab": {
          "base_uri": "https://localhost:8080/"
        },
        "id": "WLWhsQxxsLAI",
        "outputId": "5d3a6995-4e5f-4d5b-9bdd-b5d0c5d3a538"
      },
      "outputs": [
        {
          "data": {
            "text/plain": [
              "404"
            ]
          },
          "execution_count": 8,
          "metadata": {},
          "output_type": "execute_result"
        }
      ],
      "source": [
        "# 헤더를 추가 해야하는가? \n",
        "headers = {\"user-agent\": \"Mozilla/5.0\"}\n",
        "reponse = requests.get(url_petit_1, headers=headers)\n",
        "reponse.status_code  # 실패"
      ]
    },
    {
      "cell_type": "markdown",
      "metadata": {
        "id": "_Ky8TnUhtn9i"
      },
      "source": [
        "### json 주소로 해보기\n"
      ]
    },
    {
      "cell_type": "code",
      "execution_count": null,
      "metadata": {
        "colab": {
          "base_uri": "https://localhost:8080/"
        },
        "id": "RSre-bPhrZmA",
        "outputId": "62edbeb2-f71b-47e9-e3e8-7c37a930e298"
      },
      "outputs": [
        {
          "name": "stdout",
          "output_type": "stream",
          "text": [
            "https://petitions.assembly.go.kr/api/petits/EB0E1E2D986D1CA1E054B49691C1987F\n"
          ]
        }
      ],
      "source": [
        "# json으로 받기 \n",
        "petit = df_json['ID'][3]\n",
        "url_effect = f'https://petitions.assembly.go.kr/api/petits/{petit}'\n",
        "print(url_effect)"
      ]
    },
    {
      "cell_type": "code",
      "execution_count": null,
      "metadata": {
        "colab": {
          "base_uri": "https://localhost:8080/"
        },
        "id": "1GFZC3Yq0xW5",
        "outputId": "71bb62b3-3945-4b95-8e7f-1b58fd2442fc"
      },
      "outputs": [
        {
          "data": {
            "text/plain": [
              "200"
            ]
          },
          "execution_count": 10,
          "metadata": {},
          "output_type": "execute_result"
        }
      ],
      "source": [
        "# 응답 확인하기\n",
        "response = requests.get(url_effect)\n",
        "response.status_code"
      ]
    },
    {
      "cell_type": "code",
      "execution_count": null,
      "metadata": {
        "colab": {
          "base_uri": "https://localhost:8080/",
          "height": 35
        },
        "id": "cPcCGFEO1oSZ",
        "outputId": "373936a2-2743-4c36-d7dc-b9996ed52511"
      },
      "outputs": [
        {
          "data": {
            "text/plain": [
              "'난임부부지원 횟수의 확대'"
            ]
          },
          "execution_count": 11,
          "metadata": {},
          "output_type": "execute_result"
        }
      ],
      "source": [
        "# json 취지 찾기\n",
        "content = response.json()\n",
        "reason = content['petitObjet']\n",
        "reason"
      ]
    },
    {
      "cell_type": "code",
      "execution_count": null,
      "metadata": {
        "id": "wswWSZp13BfB"
      },
      "outputs": [],
      "source": [
        "# 함수 만들기\n",
        "def reason(df_json_id):\n",
        "    '''\n",
        "    취지 가져오기\n",
        "    1. 취지를 위한 url 준비\n",
        "    2. requests로 응답 받기\n",
        "    3. json으로 받아서 취지 가져오기\n",
        "    '''\n",
        "    url_effect = f'https://petitions.assembly.go.kr/api/petits/{df_json_id}'\n",
        "    headers = {\"user-agent\": \"Mozilla/5.0\"}\n",
        "    response = requests.get(url_effect, headers = headers)\n",
        "    content = response.json()\n",
        "    reason = content['petitObjet']\n",
        "    time.sleep(0.01)\n",
        "    return reason"
      ]
    },
    {
      "cell_type": "code",
      "execution_count": null,
      "metadata": {
        "colab": {
          "base_uri": "https://localhost:8080/",
          "height": 35
        },
        "id": "_qsn9Bwk4Egi",
        "outputId": "20139cef-e585-4be3-86de-1fbfc2838461"
      },
      "outputs": [
        {
          "data": {
            "text/plain": [
              "'1) 과대포장 문제를 해결하기 위함입니다.\\r\\n2) 국가의 일회용품 소비를 줄이기 위함입니다. '"
            ]
          },
          "execution_count": 13,
          "metadata": {},
          "output_type": "execute_result"
        }
      ],
      "source": [
        "reason(df_json['ID'][7])"
      ]
    },
    {
      "cell_type": "markdown",
      "metadata": {
        "id": "wJNgj__q82Bq"
      },
      "source": [
        "## 한 페이지 청원 불러오는 함수만들기 (취지까지)"
      ]
    },
    {
      "cell_type": "code",
      "execution_count": null,
      "metadata": {
        "id": "nhg7WMez4YUK"
      },
      "outputs": [],
      "source": [
        "def page_pepit(page_no):\n",
        "    '''\n",
        "    한페이지 청원불러오기\n",
        "    1. 페이지 url 부르기\n",
        "    2. 판다스로 json 데이터프레임 불러오기\n",
        "    3. 청원 취지 받아오기\n",
        "    4. 취지를 df_json에 추가하기\n",
        "    5. 필요한 컬럼만 불러오기\n",
        "    ['petitRealmNm', 'petitSj', 'petitObjet', 'petitCn', 'agreBeginDe', 'petitEndDt', 'agreCo', 'resultCodeNm']\n",
        "    6. 컬럼명 변경하기\n",
        "    7. df_json 리턴하기\n",
        "    3. 필요한 컬럼들만 불러오기\n",
        "    \n",
        "    4. 청원 취지 받아오기\n",
        "    5. 취지를 df_json에 추가하기\n",
        "    6. 컬럼명 변경해주기\n",
        "    6-1. petitId 컬럼 삭제하기\n",
        "    7. df_json 리턴하기\n",
        "    '''\n",
        "    try:\n",
        "        url = f'https://petitions.assembly.go.kr/api/petits?pageIndex={page_no}&recordCountPerPage=8&sort=AGRE_END_DE-&beginDate=20220101&endDate=20221231'\n",
        "        df_json = pd.read_json(url, encoding='utf-8')\n",
        "        cont_list = [reason(df_json['petitId'][i]) for i in range(len(df_json))]\n",
        "        df_json['petitObjet'] = cont_list\n",
        "        df_json = df_json[['petitRealmNm', 'petitSj', 'petitObjet', 'petitCn', 'agreBeginDe', 'petitEndDt', 'agreCo', 'resultCodeNm']]\n",
        "        cols = ['청원 분야', '청원 제목', '청원 취지', '청원 내용', '청원 시작일', '청원 종료일', '동의 수', '청원 결과']\n",
        "        df_json.columns = cols\n",
        "        return df_json\n",
        "    except Exception as e:\n",
        "        print(f'{e} 오류가 발생했습니다.')"
      ]
    },
    {
      "cell_type": "code",
      "execution_count": null,
      "metadata": {
        "colab": {
          "base_uri": "https://localhost:8080/",
          "height": 639
        },
        "id": "W9LCG6Vx-CKy",
        "outputId": "feefe4c5-8a2d-4f0b-f984-70a3dfdf5d42"
      },
      "outputs": [
        {
          "data": {
            "text/html": [
              "<div>\n",
              "<style scoped>\n",
              "    .dataframe tbody tr th:only-of-type {\n",
              "        vertical-align: middle;\n",
              "    }\n",
              "\n",
              "    .dataframe tbody tr th {\n",
              "        vertical-align: top;\n",
              "    }\n",
              "\n",
              "    .dataframe thead th {\n",
              "        text-align: right;\n",
              "    }\n",
              "</style>\n",
              "<table border=\"1\" class=\"dataframe\">\n",
              "  <thead>\n",
              "    <tr style=\"text-align: right;\">\n",
              "      <th></th>\n",
              "      <th>청원 분야</th>\n",
              "      <th>청원 제목</th>\n",
              "      <th>청원 취지</th>\n",
              "      <th>청원 내용</th>\n",
              "      <th>청원 시작일</th>\n",
              "      <th>청원 종료일</th>\n",
              "      <th>동의 수</th>\n",
              "      <th>청원 결과</th>\n",
              "    </tr>\n",
              "  </thead>\n",
              "  <tbody>\n",
              "    <tr>\n",
              "      <th>0</th>\n",
              "      <td>보건의료</td>\n",
              "      <td>간호법 제정에 관한 청원</td>\n",
              "      <td>'간호법' 제정을 통해 간호사의 영역과 업무 범위를 명확화 하고, 간호 서비스 개선...</td>\n",
              "      <td>현재 96개국에 '간호법'이 있고, OECD 국가 38개국 중 미국을 포함한 33개...</td>\n",
              "      <td>2022-11-30 09:52:59</td>\n",
              "      <td>2022-12-31 00:01:00</td>\n",
              "      <td>177</td>\n",
              "      <td>동의만료폐기</td>\n",
              "    </tr>\n",
              "    <tr>\n",
              "      <th>1</th>\n",
              "      <td>국토/해양/교통</td>\n",
              "      <td>모든 학원, 상가 복도 cctv 의무화에 관한 청원</td>\n",
              "      <td>CCTV없는곳에서 일어나는 폭력을 막아주세요.</td>\n",
              "      <td>안녕하세요.\\n봉담읍에 사는 초등학생  아이를 둔 엄마입니다.\\n저희아이는 학원강의...</td>\n",
              "      <td>2022-11-30 09:53:21</td>\n",
              "      <td>2022-12-31 00:01:00</td>\n",
              "      <td>283</td>\n",
              "      <td>동의만료폐기</td>\n",
              "    </tr>\n",
              "    <tr>\n",
              "      <th>2</th>\n",
              "      <td>국토/해양/교통</td>\n",
              "      <td>인천 미추홀구뿐만 아니라 전국적인 ‘나 홀로 아파트, 빌라’ 전세사기에 관한 청원</td>\n",
              "      <td>저는 전세사기 피해자입니다.\\r\\n\\r\\n전국적으로 발생한 전세사기 피해에 대한 현...</td>\n",
              "      <td>○ 문제점\\r\\n낙찰자가 생겨 곧 퇴거해야하는 피해자들을 위한 ‘전세사기피해지원센터...</td>\n",
              "      <td>2022-11-30 09:52:01</td>\n",
              "      <td>2022-12-31 00:01:00</td>\n",
              "      <td>2250</td>\n",
              "      <td>동의만료폐기</td>\n",
              "    </tr>\n",
              "    <tr>\n",
              "      <th>3</th>\n",
              "      <td>저출산/고령화/아동/청소년/가족</td>\n",
              "      <td>난임부부지원 횟수의 확대 및 시험관 지원에 관한 청원</td>\n",
              "      <td>난임부부지원 횟수의 확대</td>\n",
              "      <td>저는 아직 시험관을 시작하지 않은 결혼 2년차인 여성입니다.\\r\\n \\r\\n늦은 결...</td>\n",
              "      <td>2022-11-28 16:37:29</td>\n",
              "      <td>2022-12-29 00:01:00</td>\n",
              "      <td>567</td>\n",
              "      <td>동의만료폐기</td>\n",
              "    </tr>\n",
              "    <tr>\n",
              "      <th>4</th>\n",
              "      <td>재정/세제/금융/예산</td>\n",
              "      <td>가상자산 위믹스 코인 거래지원종료에 관한 DAXA의 처리 투명성과 갑질논란에 관한 청원</td>\n",
              "      <td>한국거래소협회 DAXA에 의한 위믹스코인 거래지원 종료에 대한 투명성 조사와 갑질 ...</td>\n",
              "      <td>한국 거래소협회 DAXA는 10월27일 계획유통량과 실제유통량의 차이를 원인으로 삼...</td>\n",
              "      <td>2022-11-28 16:40:33</td>\n",
              "      <td>2022-12-29 00:01:00</td>\n",
              "      <td>6165</td>\n",
              "      <td>동의만료폐기</td>\n",
              "    </tr>\n",
              "    <tr>\n",
              "      <th>5</th>\n",
              "      <td>보건의료</td>\n",
              "      <td>크론병을 앓고 있는 아들의 건강보험 적용 요청에 관한 청원</td>\n",
              "      <td>크론병 환자의 건강보험 적용에 대한 건의</td>\n",
              "      <td>저의 아들은 크론병을 앓고 있습니다.\\r\\n크론병 치료나 완화에 사용되는 약 또는 ...</td>\n",
              "      <td>2022-11-28 16:39:26</td>\n",
              "      <td>2022-12-29 00:01:00</td>\n",
              "      <td>650</td>\n",
              "      <td>동의만료폐기</td>\n",
              "    </tr>\n",
              "    <tr>\n",
              "      <th>6</th>\n",
              "      <td>보건의료</td>\n",
              "      <td>난치성 편두통 환자를 위한 CGRP 표적 치료제의 급여혜택 강화 촉구에 관한 청원</td>\n",
              "      <td>WHO에서는 세계에서 두번째로 질병 부담이 높은 질환이 편두통이라고 발표했습니다. ...</td>\n",
              "      <td>건강보험심사평가원에서 공개한 고시 자료[1]를 보면 대상 질환의 특성으로서 \"삽화편...</td>\n",
              "      <td>2022-11-28 16:39:49</td>\n",
              "      <td>2022-12-29 00:01:00</td>\n",
              "      <td>524</td>\n",
              "      <td>동의만료폐기</td>\n",
              "    </tr>\n",
              "    <tr>\n",
              "      <th>7</th>\n",
              "      <td>재난/안전/환경</td>\n",
              "      <td>기업의 과대포장에 관한 청원</td>\n",
              "      <td>1) 과대포장 문제를 해결하기 위함입니다.\\r\\n2) 국가의 일회용품 소비를 줄이기...</td>\n",
              "      <td>환경 문제가 날이 갈수록 심화되고 있습니다. 세계가 노력하고 있지만 여전히 부족하며...</td>\n",
              "      <td>2022-11-28 16:37:57</td>\n",
              "      <td>2022-12-29 00:01:00</td>\n",
              "      <td>157</td>\n",
              "      <td>동의만료폐기</td>\n",
              "    </tr>\n",
              "  </tbody>\n",
              "</table>\n",
              "</div>"
            ],
            "text/plain": [
              "               청원 분야                                             청원 제목  \\\n",
              "0               보건의료                                     간호법 제정에 관한 청원   \n",
              "1           국토/해양/교통                      모든 학원, 상가 복도 cctv 의무화에 관한 청원   \n",
              "2           국토/해양/교통     인천 미추홀구뿐만 아니라 전국적인 ‘나 홀로 아파트, 빌라’ 전세사기에 관한 청원   \n",
              "3  저출산/고령화/아동/청소년/가족                     난임부부지원 횟수의 확대 및 시험관 지원에 관한 청원   \n",
              "4        재정/세제/금융/예산  가상자산 위믹스 코인 거래지원종료에 관한 DAXA의 처리 투명성과 갑질논란에 관한 청원   \n",
              "5               보건의료                  크론병을 앓고 있는 아들의 건강보험 적용 요청에 관한 청원   \n",
              "6               보건의료     난치성 편두통 환자를 위한 CGRP 표적 치료제의 급여혜택 강화 촉구에 관한 청원   \n",
              "7           재난/안전/환경                                   기업의 과대포장에 관한 청원   \n",
              "\n",
              "                                               청원 취지  \\\n",
              "0  '간호법' 제정을 통해 간호사의 영역과 업무 범위를 명확화 하고, 간호 서비스 개선...   \n",
              "1                          CCTV없는곳에서 일어나는 폭력을 막아주세요.   \n",
              "2  저는 전세사기 피해자입니다.\\r\\n\\r\\n전국적으로 발생한 전세사기 피해에 대한 현...   \n",
              "3                                      난임부부지원 횟수의 확대   \n",
              "4  한국거래소협회 DAXA에 의한 위믹스코인 거래지원 종료에 대한 투명성 조사와 갑질 ...   \n",
              "5                             크론병 환자의 건강보험 적용에 대한 건의   \n",
              "6  WHO에서는 세계에서 두번째로 질병 부담이 높은 질환이 편두통이라고 발표했습니다. ...   \n",
              "7  1) 과대포장 문제를 해결하기 위함입니다.\\r\\n2) 국가의 일회용품 소비를 줄이기...   \n",
              "\n",
              "                                               청원 내용               청원 시작일  \\\n",
              "0  현재 96개국에 '간호법'이 있고, OECD 국가 38개국 중 미국을 포함한 33개...  2022-11-30 09:52:59   \n",
              "1  안녕하세요.\\n봉담읍에 사는 초등학생  아이를 둔 엄마입니다.\\n저희아이는 학원강의...  2022-11-30 09:53:21   \n",
              "2  ○ 문제점\\r\\n낙찰자가 생겨 곧 퇴거해야하는 피해자들을 위한 ‘전세사기피해지원센터...  2022-11-30 09:52:01   \n",
              "3  저는 아직 시험관을 시작하지 않은 결혼 2년차인 여성입니다.\\r\\n \\r\\n늦은 결...  2022-11-28 16:37:29   \n",
              "4  한국 거래소협회 DAXA는 10월27일 계획유통량과 실제유통량의 차이를 원인으로 삼...  2022-11-28 16:40:33   \n",
              "5  저의 아들은 크론병을 앓고 있습니다.\\r\\n크론병 치료나 완화에 사용되는 약 또는 ...  2022-11-28 16:39:26   \n",
              "6  건강보험심사평가원에서 공개한 고시 자료[1]를 보면 대상 질환의 특성으로서 \"삽화편...  2022-11-28 16:39:49   \n",
              "7  환경 문제가 날이 갈수록 심화되고 있습니다. 세계가 노력하고 있지만 여전히 부족하며...  2022-11-28 16:37:57   \n",
              "\n",
              "                청원 종료일  동의 수   청원 결과  \n",
              "0  2022-12-31 00:01:00   177  동의만료폐기  \n",
              "1  2022-12-31 00:01:00   283  동의만료폐기  \n",
              "2  2022-12-31 00:01:00  2250  동의만료폐기  \n",
              "3  2022-12-29 00:01:00   567  동의만료폐기  \n",
              "4  2022-12-29 00:01:00  6165  동의만료폐기  \n",
              "5  2022-12-29 00:01:00   650  동의만료폐기  \n",
              "6  2022-12-29 00:01:00   524  동의만료폐기  \n",
              "7  2022-12-29 00:01:00   157  동의만료폐기  "
            ]
          },
          "execution_count": 18,
          "metadata": {},
          "output_type": "execute_result"
        }
      ],
      "source": [
        "page_pepit(1)"
      ]
    },
    {
      "cell_type": "markdown",
      "metadata": {
        "id": "W36UYM9CGOFZ"
      },
      "source": [
        "## 전체 청원 불러오기\n",
        "1. 무한 루프 만들기\n",
        "2. 한페이지 프레임 불러오기\n",
        "3. 불러온 페이지에 아무것도 없으면 루프 탈출(마지막 페이지까지 찾기)\n",
        "4. 혹시모를 상황에 대비해 csv 파일을 저장해 두기\n",
        "5. page를 1씩 증가 시키기\n",
        "6. 서버에 과부하를 줄이기 위해 time.sleep 사용"
      ]
    },
    {
      "cell_type": "code",
      "execution_count": null,
      "metadata": {
        "colab": {
          "base_uri": "https://localhost:8080/",
          "height": 381
        },
        "id": "u0cOs4kf-DLB",
        "outputId": "c96e11e9-9a67-4f9c-9582-6747975e6f83"
      },
      "outputs": [
        {
          "name": "stdout",
          "output_type": "stream",
          "text": [
            "\"['petitRealmNm', 'petitSj', 'petitCn', 'agreBeginDe', 'petitEndDt', 'agreCo', 'resultCodeNm'] not in index\" 오류가 발생했습니다.\n"
          ]
        },
        {
          "data": {
            "text/html": [
              "<div>\n",
              "<style scoped>\n",
              "    .dataframe tbody tr th:only-of-type {\n",
              "        vertical-align: middle;\n",
              "    }\n",
              "\n",
              "    .dataframe tbody tr th {\n",
              "        vertical-align: top;\n",
              "    }\n",
              "\n",
              "    .dataframe thead th {\n",
              "        text-align: right;\n",
              "    }\n",
              "</style>\n",
              "<table border=\"1\" class=\"dataframe\">\n",
              "  <thead>\n",
              "    <tr style=\"text-align: right;\">\n",
              "      <th></th>\n",
              "      <th>청원 분야</th>\n",
              "      <th>청원 제목</th>\n",
              "      <th>청원 취지</th>\n",
              "      <th>청원 내용</th>\n",
              "      <th>청원 시작일</th>\n",
              "      <th>청원 종료일</th>\n",
              "      <th>동의 수</th>\n",
              "      <th>청원 결과</th>\n",
              "    </tr>\n",
              "  </thead>\n",
              "  <tbody>\n",
              "    <tr>\n",
              "      <th>0</th>\n",
              "      <td>보건의료</td>\n",
              "      <td>간호법 제정에 관한 청원</td>\n",
              "      <td>'간호법' 제정을 통해 간호사의 영역과 업무 범위를 명확화 하고, 간호 서비스 개선...</td>\n",
              "      <td>현재 96개국에 '간호법'이 있고, OECD 국가 38개국 중 미국을 포함한 33개...</td>\n",
              "      <td>2022-11-30 09:52:59</td>\n",
              "      <td>2022-12-31 00:01:00</td>\n",
              "      <td>177</td>\n",
              "      <td>동의만료폐기</td>\n",
              "    </tr>\n",
              "    <tr>\n",
              "      <th>1</th>\n",
              "      <td>국토/해양/교통</td>\n",
              "      <td>모든 학원, 상가 복도 cctv 의무화에 관한 청원</td>\n",
              "      <td>CCTV없는곳에서 일어나는 폭력을 막아주세요.</td>\n",
              "      <td>안녕하세요.\\n봉담읍에 사는 초등학생  아이를 둔 엄마입니다.\\n저희아이는 학원강의...</td>\n",
              "      <td>2022-11-30 09:53:21</td>\n",
              "      <td>2022-12-31 00:01:00</td>\n",
              "      <td>283</td>\n",
              "      <td>동의만료폐기</td>\n",
              "    </tr>\n",
              "    <tr>\n",
              "      <th>2</th>\n",
              "      <td>국토/해양/교통</td>\n",
              "      <td>인천 미추홀구뿐만 아니라 전국적인 ‘나 홀로 아파트, 빌라’ 전세사기에 관한 청원</td>\n",
              "      <td>저는 전세사기 피해자입니다.\\r\\n\\r\\n전국적으로 발생한 전세사기 피해에 대한 현...</td>\n",
              "      <td>○ 문제점\\r\\n낙찰자가 생겨 곧 퇴거해야하는 피해자들을 위한 ‘전세사기피해지원센터...</td>\n",
              "      <td>2022-11-30 09:52:01</td>\n",
              "      <td>2022-12-31 00:01:00</td>\n",
              "      <td>2250</td>\n",
              "      <td>동의만료폐기</td>\n",
              "    </tr>\n",
              "    <tr>\n",
              "      <th>3</th>\n",
              "      <td>저출산/고령화/아동/청소년/가족</td>\n",
              "      <td>난임부부지원 횟수의 확대 및 시험관 지원에 관한 청원</td>\n",
              "      <td>난임부부지원 횟수의 확대</td>\n",
              "      <td>저는 아직 시험관을 시작하지 않은 결혼 2년차인 여성입니다.\\r\\n \\r\\n늦은 결...</td>\n",
              "      <td>2022-11-28 16:37:29</td>\n",
              "      <td>2022-12-29 00:01:00</td>\n",
              "      <td>567</td>\n",
              "      <td>동의만료폐기</td>\n",
              "    </tr>\n",
              "    <tr>\n",
              "      <th>4</th>\n",
              "      <td>재정/세제/금융/예산</td>\n",
              "      <td>가상자산 위믹스 코인 거래지원종료에 관한 DAXA의 처리 투명성과 갑질논란에 관한 청원</td>\n",
              "      <td>한국거래소협회 DAXA에 의한 위믹스코인 거래지원 종료에 대한 투명성 조사와 갑질 ...</td>\n",
              "      <td>한국 거래소협회 DAXA는 10월27일 계획유통량과 실제유통량의 차이를 원인으로 삼...</td>\n",
              "      <td>2022-11-28 16:40:33</td>\n",
              "      <td>2022-12-29 00:01:00</td>\n",
              "      <td>6165</td>\n",
              "      <td>동의만료폐기</td>\n",
              "    </tr>\n",
              "    <tr>\n",
              "      <th>...</th>\n",
              "      <td>...</td>\n",
              "      <td>...</td>\n",
              "      <td>...</td>\n",
              "      <td>...</td>\n",
              "      <td>...</td>\n",
              "      <td>...</td>\n",
              "      <td>...</td>\n",
              "      <td>...</td>\n",
              "    </tr>\n",
              "    <tr>\n",
              "      <th>346</th>\n",
              "      <td>수사/법무/사법제도</td>\n",
              "      <td>양승태 전 대법원장 재임기간 중의 사법농단 의혹사건 피해자 구제를 위한 특별법안 제...</td>\n",
              "      <td>양승태 전 대법원장 체제하에서의 대법원이 상고 법원 설치 등 특정 목적을  관철 시...</td>\n",
              "      <td>제2조(정의) 이 법에서 사용하는 용어의 뜻은 다음과 같다.\\n1. “사법농단피해자...</td>\n",
              "      <td>2021-12-13 17:47:48</td>\n",
              "      <td>2022-01-13 00:01:00</td>\n",
              "      <td>429</td>\n",
              "      <td>동의만료폐기</td>\n",
              "    </tr>\n",
              "    <tr>\n",
              "      <th>347</th>\n",
              "      <td>정치/선거/국회운영</td>\n",
              "      <td>수개표로 전환 안심 선거에 관한 청원</td>\n",
              "      <td>안녕하십니까? \\n\\n공직선거에서 전자개표가 도입된 이래 끊임없이 부정선거의 논란이...</td>\n",
              "      <td>1. ‘당일 투표’를 기본 원칙으로 한다.\\n\\n부정선거의 가능성이 높은 사전투표와...</td>\n",
              "      <td>2021-12-07 16:21:09</td>\n",
              "      <td>2022-01-07 00:01:00</td>\n",
              "      <td>3034</td>\n",
              "      <td>동의만료폐기</td>\n",
              "    </tr>\n",
              "    <tr>\n",
              "      <th>348</th>\n",
              "      <td>복지/보훈</td>\n",
              "      <td>발달재활서비스 제공 인력의 생존권을 위한 자격 인정 제도 개선에 관한 청원</td>\n",
              "      <td>수많은 치료사 ,선생님들 지금거리로 몰리고있습니다 도와주세요...</td>\n",
              "      <td>\\n발달재활서비스 제공인력 인증 강화 심사에 대해 청원합니다.\\n\\n안녕하세요. 경...</td>\n",
              "      <td>2021-12-07 16:22:35</td>\n",
              "      <td>2022-01-07 00:01:00</td>\n",
              "      <td>210</td>\n",
              "      <td>동의만료폐기</td>\n",
              "    </tr>\n",
              "    <tr>\n",
              "      <th>349</th>\n",
              "      <td>정치/선거/국회운영</td>\n",
              "      <td>안심 선거를 위한 수개표 전환에 관한 청원</td>\n",
              "      <td>안녕하십니까?\\n\\n공직선거에서 전자개표가 도입된 이래 끊임없이 부정선거의 논란이 ...</td>\n",
              "      <td>1. '당일 투표'를 기본 원칙으로 한다.\\n\\n부정선거의 가능성이 높은 사전투표와...</td>\n",
              "      <td>2021-12-07 16:21:38</td>\n",
              "      <td>2021-12-13 18:54:23</td>\n",
              "      <td>736</td>\n",
              "      <td>진행중철회</td>\n",
              "    </tr>\n",
              "    <tr>\n",
              "      <th>350</th>\n",
              "      <td>정치/선거/국회운영</td>\n",
              "      <td>22년 3월 대선에서 수개표 시행을 위한 공직선거법 개정에 관한 청원</td>\n",
              "      <td>공직선거에서 전자개표가 도입된 이래 끊임없이 부정선거의 논란이 계속되고 있습니다. ...</td>\n",
              "      <td>1. ‘당일 투표’만 시행한다는 내용을 개정법안에 명시해 주십시오.\\n\\n부정선거의...</td>\n",
              "      <td>2021-12-07 16:22:05</td>\n",
              "      <td>2022-01-06 14:49:10</td>\n",
              "      <td>100000</td>\n",
              "      <td>위원회심사</td>\n",
              "    </tr>\n",
              "  </tbody>\n",
              "</table>\n",
              "<p>351 rows × 8 columns</p>\n",
              "</div>"
            ],
            "text/plain": [
              "                 청원 분야                                              청원 제목  \\\n",
              "0                 보건의료                                      간호법 제정에 관한 청원   \n",
              "1             국토/해양/교통                       모든 학원, 상가 복도 cctv 의무화에 관한 청원   \n",
              "2             국토/해양/교통      인천 미추홀구뿐만 아니라 전국적인 ‘나 홀로 아파트, 빌라’ 전세사기에 관한 청원   \n",
              "3    저출산/고령화/아동/청소년/가족                      난임부부지원 횟수의 확대 및 시험관 지원에 관한 청원   \n",
              "4          재정/세제/금융/예산   가상자산 위믹스 코인 거래지원종료에 관한 DAXA의 처리 투명성과 갑질논란에 관한 청원   \n",
              "..                 ...                                                ...   \n",
              "346         수사/법무/사법제도  양승태 전 대법원장 재임기간 중의 사법농단 의혹사건 피해자 구제를 위한 특별법안 제...   \n",
              "347         정치/선거/국회운영                               수개표로 전환 안심 선거에 관한 청원   \n",
              "348              복지/보훈          발달재활서비스 제공 인력의 생존권을 위한 자격 인정 제도 개선에 관한 청원   \n",
              "349         정치/선거/국회운영                            안심 선거를 위한 수개표 전환에 관한 청원   \n",
              "350         정치/선거/국회운영             22년 3월 대선에서 수개표 시행을 위한 공직선거법 개정에 관한 청원   \n",
              "\n",
              "                                                 청원 취지  \\\n",
              "0    '간호법' 제정을 통해 간호사의 영역과 업무 범위를 명확화 하고, 간호 서비스 개선...   \n",
              "1                            CCTV없는곳에서 일어나는 폭력을 막아주세요.   \n",
              "2    저는 전세사기 피해자입니다.\\r\\n\\r\\n전국적으로 발생한 전세사기 피해에 대한 현...   \n",
              "3                                        난임부부지원 횟수의 확대   \n",
              "4    한국거래소협회 DAXA에 의한 위믹스코인 거래지원 종료에 대한 투명성 조사와 갑질 ...   \n",
              "..                                                 ...   \n",
              "346  양승태 전 대법원장 체제하에서의 대법원이 상고 법원 설치 등 특정 목적을  관철 시...   \n",
              "347  안녕하십니까? \\n\\n공직선거에서 전자개표가 도입된 이래 끊임없이 부정선거의 논란이...   \n",
              "348               수많은 치료사 ,선생님들 지금거리로 몰리고있습니다 도와주세요...   \n",
              "349  안녕하십니까?\\n\\n공직선거에서 전자개표가 도입된 이래 끊임없이 부정선거의 논란이 ...   \n",
              "350  공직선거에서 전자개표가 도입된 이래 끊임없이 부정선거의 논란이 계속되고 있습니다. ...   \n",
              "\n",
              "                                                 청원 내용               청원 시작일  \\\n",
              "0    현재 96개국에 '간호법'이 있고, OECD 국가 38개국 중 미국을 포함한 33개...  2022-11-30 09:52:59   \n",
              "1    안녕하세요.\\n봉담읍에 사는 초등학생  아이를 둔 엄마입니다.\\n저희아이는 학원강의...  2022-11-30 09:53:21   \n",
              "2    ○ 문제점\\r\\n낙찰자가 생겨 곧 퇴거해야하는 피해자들을 위한 ‘전세사기피해지원센터...  2022-11-30 09:52:01   \n",
              "3    저는 아직 시험관을 시작하지 않은 결혼 2년차인 여성입니다.\\r\\n \\r\\n늦은 결...  2022-11-28 16:37:29   \n",
              "4    한국 거래소협회 DAXA는 10월27일 계획유통량과 실제유통량의 차이를 원인으로 삼...  2022-11-28 16:40:33   \n",
              "..                                                 ...                  ...   \n",
              "346  제2조(정의) 이 법에서 사용하는 용어의 뜻은 다음과 같다.\\n1. “사법농단피해자...  2021-12-13 17:47:48   \n",
              "347  1. ‘당일 투표’를 기본 원칙으로 한다.\\n\\n부정선거의 가능성이 높은 사전투표와...  2021-12-07 16:21:09   \n",
              "348  \\n발달재활서비스 제공인력 인증 강화 심사에 대해 청원합니다.\\n\\n안녕하세요. 경...  2021-12-07 16:22:35   \n",
              "349  1. '당일 투표'를 기본 원칙으로 한다.\\n\\n부정선거의 가능성이 높은 사전투표와...  2021-12-07 16:21:38   \n",
              "350  1. ‘당일 투표’만 시행한다는 내용을 개정법안에 명시해 주십시오.\\n\\n부정선거의...  2021-12-07 16:22:05   \n",
              "\n",
              "                  청원 종료일    동의 수   청원 결과  \n",
              "0    2022-12-31 00:01:00     177  동의만료폐기  \n",
              "1    2022-12-31 00:01:00     283  동의만료폐기  \n",
              "2    2022-12-31 00:01:00    2250  동의만료폐기  \n",
              "3    2022-12-29 00:01:00     567  동의만료폐기  \n",
              "4    2022-12-29 00:01:00    6165  동의만료폐기  \n",
              "..                   ...     ...     ...  \n",
              "346  2022-01-13 00:01:00     429  동의만료폐기  \n",
              "347  2022-01-07 00:01:00    3034  동의만료폐기  \n",
              "348  2022-01-07 00:01:00     210  동의만료폐기  \n",
              "349  2021-12-13 18:54:23     736   진행중철회  \n",
              "350  2022-01-06 14:49:10  100000   위원회심사  \n",
              "\n",
              "[351 rows x 8 columns]"
            ]
          },
          "execution_count": 30,
          "metadata": {},
          "output_type": "execute_result"
        }
      ],
      "source": [
        "# 프레임 리스트를 생성\n",
        "df_list=[]\n",
        "page = 1\n",
        "\n",
        "# 테이블이 없는 마지막 페이지까지 df_list 받기\n",
        "while 1:\n",
        "    df_one = page_pepit(page)\n",
        "    if df_one is None or (len(df_one)==0):\n",
        "        break\n",
        "    df_one.to_csv(f'petit\\petit_{page}p.csv', index = False)\n",
        "    df_list.append(df_one)\n",
        "    page += 1\n",
        "    time.sleep(0.01)\n",
        "\n",
        "df = pd.concat(df_list, ignore_index = True)\n",
        "df"
      ]
    },
    {
      "cell_type": "markdown",
      "metadata": {
        "id": "HDvA48Er6gD-"
      },
      "source": [
        "## 파일 저장하기"
      ]
    },
    {
      "cell_type": "code",
      "execution_count": null,
      "metadata": {
        "id": "YPD9voXzKc4P"
      },
      "outputs": [],
      "source": [
        "file_name = 'petitions2022.csv'\n",
        "df.to_csv(file_name, index = False)"
      ]
    },
    {
      "cell_type": "code",
      "execution_count": null,
      "metadata": {
        "id": "X-KDgYoI6gD_",
        "outputId": "9bb02bf5-6801-4da1-80ad-c2c9c6c11dc2"
      },
      "outputs": [
        {
          "data": {
            "text/html": [
              "<div>\n",
              "<style scoped>\n",
              "    .dataframe tbody tr th:only-of-type {\n",
              "        vertical-align: middle;\n",
              "    }\n",
              "\n",
              "    .dataframe tbody tr th {\n",
              "        vertical-align: top;\n",
              "    }\n",
              "\n",
              "    .dataframe thead th {\n",
              "        text-align: right;\n",
              "    }\n",
              "</style>\n",
              "<table border=\"1\" class=\"dataframe\">\n",
              "  <thead>\n",
              "    <tr style=\"text-align: right;\">\n",
              "      <th></th>\n",
              "      <th>청원 분야</th>\n",
              "      <th>청원 제목</th>\n",
              "      <th>청원 취지</th>\n",
              "      <th>청원 내용</th>\n",
              "      <th>청원 시작일</th>\n",
              "      <th>청원 종료일</th>\n",
              "      <th>동의 수</th>\n",
              "      <th>청원 결과</th>\n",
              "    </tr>\n",
              "  </thead>\n",
              "  <tbody>\n",
              "    <tr>\n",
              "      <th>0</th>\n",
              "      <td>보건의료</td>\n",
              "      <td>간호법 제정에 관한 청원</td>\n",
              "      <td>'간호법' 제정을 통해 간호사의 영역과 업무 범위를 명확화 하고, 간호 서비스 개선...</td>\n",
              "      <td>현재 96개국에 '간호법'이 있고, OECD 국가 38개국 중 미국을 포함한 33개...</td>\n",
              "      <td>2022-11-30 09:52:59</td>\n",
              "      <td>2022-12-31 00:01:00</td>\n",
              "      <td>177</td>\n",
              "      <td>동의만료폐기</td>\n",
              "    </tr>\n",
              "    <tr>\n",
              "      <th>1</th>\n",
              "      <td>국토/해양/교통</td>\n",
              "      <td>모든 학원, 상가 복도 cctv 의무화에 관한 청원</td>\n",
              "      <td>CCTV없는곳에서 일어나는 폭력을 막아주세요.</td>\n",
              "      <td>안녕하세요.\\n봉담읍에 사는 초등학생  아이를 둔 엄마입니다.\\n저희아이는 학원강의...</td>\n",
              "      <td>2022-11-30 09:53:21</td>\n",
              "      <td>2022-12-31 00:01:00</td>\n",
              "      <td>283</td>\n",
              "      <td>동의만료폐기</td>\n",
              "    </tr>\n",
              "    <tr>\n",
              "      <th>2</th>\n",
              "      <td>국토/해양/교통</td>\n",
              "      <td>인천 미추홀구뿐만 아니라 전국적인 ‘나 홀로 아파트, 빌라’ 전세사기에 관한 청원</td>\n",
              "      <td>저는 전세사기 피해자입니다.\\r\\n\\r\\n전국적으로 발생한 전세사기 피해에 대한 현...</td>\n",
              "      <td>○ 문제점\\r\\n낙찰자가 생겨 곧 퇴거해야하는 피해자들을 위한 ‘전세사기피해지원센터...</td>\n",
              "      <td>2022-11-30 09:52:01</td>\n",
              "      <td>2022-12-31 00:01:00</td>\n",
              "      <td>2250</td>\n",
              "      <td>동의만료폐기</td>\n",
              "    </tr>\n",
              "    <tr>\n",
              "      <th>3</th>\n",
              "      <td>저출산/고령화/아동/청소년/가족</td>\n",
              "      <td>난임부부지원 횟수의 확대 및 시험관 지원에 관한 청원</td>\n",
              "      <td>난임부부지원 횟수의 확대</td>\n",
              "      <td>저는 아직 시험관을 시작하지 않은 결혼 2년차인 여성입니다.\\r\\n \\r\\n늦은 결...</td>\n",
              "      <td>2022-11-28 16:37:29</td>\n",
              "      <td>2022-12-29 00:01:00</td>\n",
              "      <td>567</td>\n",
              "      <td>동의만료폐기</td>\n",
              "    </tr>\n",
              "    <tr>\n",
              "      <th>4</th>\n",
              "      <td>재정/세제/금융/예산</td>\n",
              "      <td>가상자산 위믹스 코인 거래지원종료에 관한 DAXA의 처리 투명성과 갑질논란에 관한 청원</td>\n",
              "      <td>한국거래소협회 DAXA에 의한 위믹스코인 거래지원 종료에 대한 투명성 조사와 갑질 ...</td>\n",
              "      <td>한국 거래소협회 DAXA는 10월27일 계획유통량과 실제유통량의 차이를 원인으로 삼...</td>\n",
              "      <td>2022-11-28 16:40:33</td>\n",
              "      <td>2022-12-29 00:01:00</td>\n",
              "      <td>6165</td>\n",
              "      <td>동의만료폐기</td>\n",
              "    </tr>\n",
              "    <tr>\n",
              "      <th>...</th>\n",
              "      <td>...</td>\n",
              "      <td>...</td>\n",
              "      <td>...</td>\n",
              "      <td>...</td>\n",
              "      <td>...</td>\n",
              "      <td>...</td>\n",
              "      <td>...</td>\n",
              "      <td>...</td>\n",
              "    </tr>\n",
              "    <tr>\n",
              "      <th>346</th>\n",
              "      <td>수사/법무/사법제도</td>\n",
              "      <td>양승태 전 대법원장 재임기간 중의 사법농단 의혹사건 피해자 구제를 위한 특별법안 제...</td>\n",
              "      <td>양승태 전 대법원장 체제하에서의 대법원이 상고 법원 설치 등 특정 목적을  관철 시...</td>\n",
              "      <td>제2조(정의) 이 법에서 사용하는 용어의 뜻은 다음과 같다.\\n1. “사법농단피해자...</td>\n",
              "      <td>2021-12-13 17:47:48</td>\n",
              "      <td>2022-01-13 00:01:00</td>\n",
              "      <td>429</td>\n",
              "      <td>동의만료폐기</td>\n",
              "    </tr>\n",
              "    <tr>\n",
              "      <th>347</th>\n",
              "      <td>정치/선거/국회운영</td>\n",
              "      <td>수개표로 전환 안심 선거에 관한 청원</td>\n",
              "      <td>안녕하십니까? \\n\\n공직선거에서 전자개표가 도입된 이래 끊임없이 부정선거의 논란이...</td>\n",
              "      <td>1. ‘당일 투표’를 기본 원칙으로 한다.\\n\\n부정선거의 가능성이 높은 사전투표와...</td>\n",
              "      <td>2021-12-07 16:21:09</td>\n",
              "      <td>2022-01-07 00:01:00</td>\n",
              "      <td>3034</td>\n",
              "      <td>동의만료폐기</td>\n",
              "    </tr>\n",
              "    <tr>\n",
              "      <th>348</th>\n",
              "      <td>복지/보훈</td>\n",
              "      <td>발달재활서비스 제공 인력의 생존권을 위한 자격 인정 제도 개선에 관한 청원</td>\n",
              "      <td>수많은 치료사 ,선생님들 지금거리로 몰리고있습니다 도와주세요...</td>\n",
              "      <td>\\n발달재활서비스 제공인력 인증 강화 심사에 대해 청원합니다.\\n\\n안녕하세요. 경...</td>\n",
              "      <td>2021-12-07 16:22:35</td>\n",
              "      <td>2022-01-07 00:01:00</td>\n",
              "      <td>210</td>\n",
              "      <td>동의만료폐기</td>\n",
              "    </tr>\n",
              "    <tr>\n",
              "      <th>349</th>\n",
              "      <td>정치/선거/국회운영</td>\n",
              "      <td>안심 선거를 위한 수개표 전환에 관한 청원</td>\n",
              "      <td>안녕하십니까?\\n\\n공직선거에서 전자개표가 도입된 이래 끊임없이 부정선거의 논란이 ...</td>\n",
              "      <td>1. '당일 투표'를 기본 원칙으로 한다.\\n\\n부정선거의 가능성이 높은 사전투표와...</td>\n",
              "      <td>2021-12-07 16:21:38</td>\n",
              "      <td>2021-12-13 18:54:23</td>\n",
              "      <td>736</td>\n",
              "      <td>진행중철회</td>\n",
              "    </tr>\n",
              "    <tr>\n",
              "      <th>350</th>\n",
              "      <td>정치/선거/국회운영</td>\n",
              "      <td>22년 3월 대선에서 수개표 시행을 위한 공직선거법 개정에 관한 청원</td>\n",
              "      <td>공직선거에서 전자개표가 도입된 이래 끊임없이 부정선거의 논란이 계속되고 있습니다. ...</td>\n",
              "      <td>1. ‘당일 투표’만 시행한다는 내용을 개정법안에 명시해 주십시오.\\n\\n부정선거의...</td>\n",
              "      <td>2021-12-07 16:22:05</td>\n",
              "      <td>2022-01-06 14:49:10</td>\n",
              "      <td>100000</td>\n",
              "      <td>위원회심사</td>\n",
              "    </tr>\n",
              "  </tbody>\n",
              "</table>\n",
              "<p>351 rows × 8 columns</p>\n",
              "</div>"
            ],
            "text/plain": [
              "                 청원 분야                                              청원 제목  \\\n",
              "0                 보건의료                                      간호법 제정에 관한 청원   \n",
              "1             국토/해양/교통                       모든 학원, 상가 복도 cctv 의무화에 관한 청원   \n",
              "2             국토/해양/교통      인천 미추홀구뿐만 아니라 전국적인 ‘나 홀로 아파트, 빌라’ 전세사기에 관한 청원   \n",
              "3    저출산/고령화/아동/청소년/가족                      난임부부지원 횟수의 확대 및 시험관 지원에 관한 청원   \n",
              "4          재정/세제/금융/예산   가상자산 위믹스 코인 거래지원종료에 관한 DAXA의 처리 투명성과 갑질논란에 관한 청원   \n",
              "..                 ...                                                ...   \n",
              "346         수사/법무/사법제도  양승태 전 대법원장 재임기간 중의 사법농단 의혹사건 피해자 구제를 위한 특별법안 제...   \n",
              "347         정치/선거/국회운영                               수개표로 전환 안심 선거에 관한 청원   \n",
              "348              복지/보훈          발달재활서비스 제공 인력의 생존권을 위한 자격 인정 제도 개선에 관한 청원   \n",
              "349         정치/선거/국회운영                            안심 선거를 위한 수개표 전환에 관한 청원   \n",
              "350         정치/선거/국회운영             22년 3월 대선에서 수개표 시행을 위한 공직선거법 개정에 관한 청원   \n",
              "\n",
              "                                                 청원 취지  \\\n",
              "0    '간호법' 제정을 통해 간호사의 영역과 업무 범위를 명확화 하고, 간호 서비스 개선...   \n",
              "1                            CCTV없는곳에서 일어나는 폭력을 막아주세요.   \n",
              "2    저는 전세사기 피해자입니다.\\r\\n\\r\\n전국적으로 발생한 전세사기 피해에 대한 현...   \n",
              "3                                        난임부부지원 횟수의 확대   \n",
              "4    한국거래소협회 DAXA에 의한 위믹스코인 거래지원 종료에 대한 투명성 조사와 갑질 ...   \n",
              "..                                                 ...   \n",
              "346  양승태 전 대법원장 체제하에서의 대법원이 상고 법원 설치 등 특정 목적을  관철 시...   \n",
              "347  안녕하십니까? \\n\\n공직선거에서 전자개표가 도입된 이래 끊임없이 부정선거의 논란이...   \n",
              "348               수많은 치료사 ,선생님들 지금거리로 몰리고있습니다 도와주세요...   \n",
              "349  안녕하십니까?\\n\\n공직선거에서 전자개표가 도입된 이래 끊임없이 부정선거의 논란이 ...   \n",
              "350  공직선거에서 전자개표가 도입된 이래 끊임없이 부정선거의 논란이 계속되고 있습니다. ...   \n",
              "\n",
              "                                                 청원 내용               청원 시작일  \\\n",
              "0    현재 96개국에 '간호법'이 있고, OECD 국가 38개국 중 미국을 포함한 33개...  2022-11-30 09:52:59   \n",
              "1    안녕하세요.\\n봉담읍에 사는 초등학생  아이를 둔 엄마입니다.\\n저희아이는 학원강의...  2022-11-30 09:53:21   \n",
              "2    ○ 문제점\\r\\n낙찰자가 생겨 곧 퇴거해야하는 피해자들을 위한 ‘전세사기피해지원센터...  2022-11-30 09:52:01   \n",
              "3    저는 아직 시험관을 시작하지 않은 결혼 2년차인 여성입니다.\\r\\n \\r\\n늦은 결...  2022-11-28 16:37:29   \n",
              "4    한국 거래소협회 DAXA는 10월27일 계획유통량과 실제유통량의 차이를 원인으로 삼...  2022-11-28 16:40:33   \n",
              "..                                                 ...                  ...   \n",
              "346  제2조(정의) 이 법에서 사용하는 용어의 뜻은 다음과 같다.\\n1. “사법농단피해자...  2021-12-13 17:47:48   \n",
              "347  1. ‘당일 투표’를 기본 원칙으로 한다.\\n\\n부정선거의 가능성이 높은 사전투표와...  2021-12-07 16:21:09   \n",
              "348  \\n발달재활서비스 제공인력 인증 강화 심사에 대해 청원합니다.\\n\\n안녕하세요. 경...  2021-12-07 16:22:35   \n",
              "349  1. '당일 투표'를 기본 원칙으로 한다.\\n\\n부정선거의 가능성이 높은 사전투표와...  2021-12-07 16:21:38   \n",
              "350  1. ‘당일 투표’만 시행한다는 내용을 개정법안에 명시해 주십시오.\\n\\n부정선거의...  2021-12-07 16:22:05   \n",
              "\n",
              "                  청원 종료일    동의 수   청원 결과  \n",
              "0    2022-12-31 00:01:00     177  동의만료폐기  \n",
              "1    2022-12-31 00:01:00     283  동의만료폐기  \n",
              "2    2022-12-31 00:01:00    2250  동의만료폐기  \n",
              "3    2022-12-29 00:01:00     567  동의만료폐기  \n",
              "4    2022-12-29 00:01:00    6165  동의만료폐기  \n",
              "..                   ...     ...     ...  \n",
              "346  2022-01-13 00:01:00     429  동의만료폐기  \n",
              "347  2022-01-07 00:01:00    3034  동의만료폐기  \n",
              "348  2022-01-07 00:01:00     210  동의만료폐기  \n",
              "349  2021-12-13 18:54:23     736   진행중철회  \n",
              "350  2022-01-06 14:49:10  100000   위원회심사  \n",
              "\n",
              "[351 rows x 8 columns]"
            ]
          },
          "execution_count": 149,
          "metadata": {},
          "output_type": "execute_result"
        }
      ],
      "source": [
        "df = pd.read_csv(file_name)\n",
        "df"
      ]
    },
    {
      "cell_type": "markdown",
      "metadata": {
        "id": "-QE-GAnT6gEA"
      },
      "source": [
        "# 데이터 확인"
      ]
    },
    {
      "cell_type": "code",
      "execution_count": null,
      "metadata": {
        "id": "Pa5TLz8Y6gEB",
        "outputId": "e0d6b302-f5e3-401d-9225-f56e17d6805d"
      },
      "outputs": [
        {
          "data": {
            "text/plain": [
              "(351, 8)"
            ]
          },
          "execution_count": 87,
          "metadata": {},
          "output_type": "execute_result"
        }
      ],
      "source": [
        "# 데이터의 개수와 컬럼 수 확인\n",
        "df.shape"
      ]
    },
    {
      "cell_type": "markdown",
      "metadata": {
        "id": "y-oS62hv6gEC"
      },
      "source": [
        "## 결측치 & 중복값 확인"
      ]
    },
    {
      "cell_type": "code",
      "execution_count": null,
      "metadata": {
        "id": "7EUNPoFc6gED",
        "outputId": "0222c6ec-3e45-4dd0-a561-48a3d4f2f2c5"
      },
      "outputs": [
        {
          "data": {
            "text/plain": [
              "청원 분야     0\n",
              "청원 제목     0\n",
              "청원 취지     0\n",
              "청원 내용     0\n",
              "청원 시작일    0\n",
              "청원 종료일    0\n",
              "동의 수      0\n",
              "청원 결과     0\n",
              "dtype: int64"
            ]
          },
          "execution_count": 39,
          "metadata": {},
          "output_type": "execute_result"
        }
      ],
      "source": [
        "# 결측치 확인\n",
        "df.isnull().sum()"
      ]
    },
    {
      "cell_type": "markdown",
      "metadata": {
        "id": "UlL04UIP6gED"
      },
      "source": [
        "📝 각 컬럼마다 결측치 수가 0이므로 **결측치가 없음**을 확인할 수 있다."
      ]
    },
    {
      "cell_type": "code",
      "execution_count": null,
      "metadata": {
        "id": "HuReXEWe6gEE",
        "outputId": "6240e86d-3034-40c9-c2cb-177b1f440669"
      },
      "outputs": [
        {
          "data": {
            "text/plain": [
              "0"
            ]
          },
          "execution_count": 48,
          "metadata": {},
          "output_type": "execute_result"
        }
      ],
      "source": [
        "# 데이터 중복값 확인\n",
        "df.duplicated().sum() # 없음"
      ]
    },
    {
      "cell_type": "markdown",
      "metadata": {
        "id": "OqysaObI6gEE"
      },
      "source": [
        "📝 데이터의 중복값을 확인해 보았을 때, 중복값 True 가 0이므로 중복 값이 없음을 확인할 수 있음\n",
        "\n",
        "💡 하지만 내용이 같지만 데이터가 다른 것은 찾아낼 수가 없음\n",
        "## 요약값 확인"
      ]
    },
    {
      "cell_type": "code",
      "execution_count": null,
      "metadata": {
        "id": "eRcZOjrh6gEF",
        "outputId": "31afedc7-2808-4290-e0df-a42ca69666ab"
      },
      "outputs": [
        {
          "data": {
            "text/html": [
              "<div>\n",
              "<style scoped>\n",
              "    .dataframe tbody tr th:only-of-type {\n",
              "        vertical-align: middle;\n",
              "    }\n",
              "\n",
              "    .dataframe tbody tr th {\n",
              "        vertical-align: top;\n",
              "    }\n",
              "\n",
              "    .dataframe thead th {\n",
              "        text-align: right;\n",
              "    }\n",
              "</style>\n",
              "<table border=\"1\" class=\"dataframe\">\n",
              "  <thead>\n",
              "    <tr style=\"text-align: right;\">\n",
              "      <th></th>\n",
              "      <th>동의 수</th>\n",
              "    </tr>\n",
              "  </thead>\n",
              "  <tbody>\n",
              "    <tr>\n",
              "      <th>count</th>\n",
              "      <td>351.000000</td>\n",
              "    </tr>\n",
              "    <tr>\n",
              "      <th>mean</th>\n",
              "      <td>6194.854701</td>\n",
              "    </tr>\n",
              "    <tr>\n",
              "      <th>std</th>\n",
              "      <td>14535.516890</td>\n",
              "    </tr>\n",
              "    <tr>\n",
              "      <th>min</th>\n",
              "      <td>100.000000</td>\n",
              "    </tr>\n",
              "    <tr>\n",
              "      <th>25%</th>\n",
              "      <td>207.500000</td>\n",
              "    </tr>\n",
              "    <tr>\n",
              "      <th>50%</th>\n",
              "      <td>464.000000</td>\n",
              "    </tr>\n",
              "    <tr>\n",
              "      <th>75%</th>\n",
              "      <td>2490.000000</td>\n",
              "    </tr>\n",
              "    <tr>\n",
              "      <th>max</th>\n",
              "      <td>100000.000000</td>\n",
              "    </tr>\n",
              "  </tbody>\n",
              "</table>\n",
              "</div>"
            ],
            "text/plain": [
              "                동의 수\n",
              "count     351.000000\n",
              "mean     6194.854701\n",
              "std     14535.516890\n",
              "min       100.000000\n",
              "25%       207.500000\n",
              "50%       464.000000\n",
              "75%      2490.000000\n",
              "max    100000.000000"
            ]
          },
          "metadata": {},
          "output_type": "display_data"
        },
        {
          "data": {
            "text/html": [
              "<div>\n",
              "<style scoped>\n",
              "    .dataframe tbody tr th:only-of-type {\n",
              "        vertical-align: middle;\n",
              "    }\n",
              "\n",
              "    .dataframe tbody tr th {\n",
              "        vertical-align: top;\n",
              "    }\n",
              "\n",
              "    .dataframe thead th {\n",
              "        text-align: right;\n",
              "    }\n",
              "</style>\n",
              "<table border=\"1\" class=\"dataframe\">\n",
              "  <thead>\n",
              "    <tr style=\"text-align: right;\">\n",
              "      <th></th>\n",
              "      <th>청원 분야</th>\n",
              "      <th>청원 제목</th>\n",
              "      <th>청원 취지</th>\n",
              "      <th>청원 내용</th>\n",
              "      <th>청원 시작일</th>\n",
              "      <th>청원 종료일</th>\n",
              "      <th>청원 결과</th>\n",
              "    </tr>\n",
              "  </thead>\n",
              "  <tbody>\n",
              "    <tr>\n",
              "      <th>count</th>\n",
              "      <td>351</td>\n",
              "      <td>351</td>\n",
              "      <td>351</td>\n",
              "      <td>351</td>\n",
              "      <td>351</td>\n",
              "      <td>351</td>\n",
              "      <td>351</td>\n",
              "    </tr>\n",
              "    <tr>\n",
              "      <th>unique</th>\n",
              "      <td>18</td>\n",
              "      <td>346</td>\n",
              "      <td>347</td>\n",
              "      <td>350</td>\n",
              "      <td>351</td>\n",
              "      <td>129</td>\n",
              "      <td>5</td>\n",
              "    </tr>\n",
              "    <tr>\n",
              "      <th>top</th>\n",
              "      <td>보건의료</td>\n",
              "      <td>코로나 백신 접종 중단과 부작용 피해 조사에 관한 청원</td>\n",
              "      <td>양승태 전 대법원장 체제하에서의 대법원이 상고 법원 \\n설치 등 특정 목적을 관철 ...</td>\n",
              "      <td># 관련 파일 첨부 참조 요망 #\\n제2조(정의) 이 법에서 사용하는 용어의 뜻은 ...</td>\n",
              "      <td>2022-11-30 09:52:59</td>\n",
              "      <td>2022-09-01 00:01:00</td>\n",
              "      <td>동의만료폐기</td>\n",
              "    </tr>\n",
              "    <tr>\n",
              "      <th>freq</th>\n",
              "      <td>59</td>\n",
              "      <td>3</td>\n",
              "      <td>4</td>\n",
              "      <td>2</td>\n",
              "      <td>1</td>\n",
              "      <td>13</td>\n",
              "      <td>311</td>\n",
              "    </tr>\n",
              "  </tbody>\n",
              "</table>\n",
              "</div>"
            ],
            "text/plain": [
              "       청원 분야                           청원 제목  \\\n",
              "count    351                             351   \n",
              "unique    18                             346   \n",
              "top     보건의료  코로나 백신 접종 중단과 부작용 피해 조사에 관한 청원   \n",
              "freq      59                               3   \n",
              "\n",
              "                                                    청원 취지  \\\n",
              "count                                                 351   \n",
              "unique                                                347   \n",
              "top     양승태 전 대법원장 체제하에서의 대법원이 상고 법원 \\n설치 등 특정 목적을 관철 ...   \n",
              "freq                                                    4   \n",
              "\n",
              "                                                    청원 내용  \\\n",
              "count                                                 351   \n",
              "unique                                                350   \n",
              "top     # 관련 파일 첨부 참조 요망 #\\n제2조(정의) 이 법에서 사용하는 용어의 뜻은 ...   \n",
              "freq                                                    2   \n",
              "\n",
              "                     청원 시작일               청원 종료일   청원 결과  \n",
              "count                   351                  351     351  \n",
              "unique                  351                  129       5  \n",
              "top     2022-11-30 09:52:59  2022-09-01 00:01:00  동의만료폐기  \n",
              "freq                      1                   13     311  "
            ]
          },
          "metadata": {},
          "output_type": "display_data"
        }
      ],
      "source": [
        "# 요약\n",
        "display(df.describe())\n",
        "display(df.describe(include = 'O'))"
      ]
    },
    {
      "cell_type": "code",
      "execution_count": null,
      "metadata": {
        "id": "Lr1MpYp86gEF",
        "outputId": "ec8d50fc-c3c7-40c8-8af5-5ecb6db80476"
      },
      "outputs": [
        {
          "data": {
            "text/html": [
              "<div>\n",
              "<style scoped>\n",
              "    .dataframe tbody tr th:only-of-type {\n",
              "        vertical-align: middle;\n",
              "    }\n",
              "\n",
              "    .dataframe tbody tr th {\n",
              "        vertical-align: top;\n",
              "    }\n",
              "\n",
              "    .dataframe thead th {\n",
              "        text-align: right;\n",
              "    }\n",
              "</style>\n",
              "<table border=\"1\" class=\"dataframe\">\n",
              "  <thead>\n",
              "    <tr style=\"text-align: right;\">\n",
              "      <th></th>\n",
              "      <th>청원 분야</th>\n",
              "      <th>청원 제목</th>\n",
              "      <th>청원 취지</th>\n",
              "      <th>청원 내용</th>\n",
              "      <th>청원 시작일</th>\n",
              "      <th>청원 종료일</th>\n",
              "      <th>동의 수</th>\n",
              "      <th>청원 결과</th>\n",
              "    </tr>\n",
              "  </thead>\n",
              "  <tbody>\n",
              "    <tr>\n",
              "      <th>350</th>\n",
              "      <td>정치/선거/국회운영</td>\n",
              "      <td>22년 3월 대선에서 수개표 시행을 위한 공직선거법 개정에 관한 청원</td>\n",
              "      <td>공직선거에서 전자개표가 도입된 이래 끊임없이 부정선거의 논란이 계속되고 있습니다. ...</td>\n",
              "      <td>1. ‘당일 투표’만 시행한다는 내용을 개정법안에 명시해 주십시오.\\n\\n부정선거의...</td>\n",
              "      <td>2021-12-07 16:22:05</td>\n",
              "      <td>2022-01-06 14:49:10</td>\n",
              "      <td>100000</td>\n",
              "      <td>위원회심사</td>\n",
              "    </tr>\n",
              "  </tbody>\n",
              "</table>\n",
              "</div>"
            ],
            "text/plain": [
              "          청원 분야                                   청원 제목  \\\n",
              "350  정치/선거/국회운영  22년 3월 대선에서 수개표 시행을 위한 공직선거법 개정에 관한 청원   \n",
              "\n",
              "                                                 청원 취지  \\\n",
              "350  공직선거에서 전자개표가 도입된 이래 끊임없이 부정선거의 논란이 계속되고 있습니다. ...   \n",
              "\n",
              "                                                 청원 내용               청원 시작일  \\\n",
              "350  1. ‘당일 투표’만 시행한다는 내용을 개정법안에 명시해 주십시오.\\n\\n부정선거의...  2021-12-07 16:22:05   \n",
              "\n",
              "                  청원 종료일    동의 수  청원 결과  \n",
              "350  2022-01-06 14:49:10  100000  위원회심사  "
            ]
          },
          "metadata": {},
          "output_type": "display_data"
        },
        {
          "data": {
            "text/html": [
              "<div>\n",
              "<style scoped>\n",
              "    .dataframe tbody tr th:only-of-type {\n",
              "        vertical-align: middle;\n",
              "    }\n",
              "\n",
              "    .dataframe tbody tr th {\n",
              "        vertical-align: top;\n",
              "    }\n",
              "\n",
              "    .dataframe thead th {\n",
              "        text-align: right;\n",
              "    }\n",
              "</style>\n",
              "<table border=\"1\" class=\"dataframe\">\n",
              "  <thead>\n",
              "    <tr style=\"text-align: right;\">\n",
              "      <th></th>\n",
              "      <th>청원 분야</th>\n",
              "      <th>청원 제목</th>\n",
              "      <th>청원 취지</th>\n",
              "      <th>청원 내용</th>\n",
              "      <th>청원 시작일</th>\n",
              "      <th>청원 종료일</th>\n",
              "      <th>동의 수</th>\n",
              "      <th>청원 결과</th>\n",
              "    </tr>\n",
              "  </thead>\n",
              "  <tbody>\n",
              "    <tr>\n",
              "      <th>350</th>\n",
              "      <td>정치/선거/국회운영</td>\n",
              "      <td>22년 3월 대선에서 수개표 시행을 위한 공직선거법 개정에 관한 청원</td>\n",
              "      <td>공직선거에서 전자개표가 도입된 이래 끊임없이 부정선거의 논란이 계속되고 있습니다. ...</td>\n",
              "      <td>1. ‘당일 투표’만 시행한다는 내용을 개정법안에 명시해 주십시오.\\n\\n부정선거의...</td>\n",
              "      <td>2021-12-07 16:22:05</td>\n",
              "      <td>2022-01-06 14:49:10</td>\n",
              "      <td>100000</td>\n",
              "      <td>위원회심사</td>\n",
              "    </tr>\n",
              "  </tbody>\n",
              "</table>\n",
              "</div>"
            ],
            "text/plain": [
              "          청원 분야                                   청원 제목  \\\n",
              "350  정치/선거/국회운영  22년 3월 대선에서 수개표 시행을 위한 공직선거법 개정에 관한 청원   \n",
              "\n",
              "                                                 청원 취지  \\\n",
              "350  공직선거에서 전자개표가 도입된 이래 끊임없이 부정선거의 논란이 계속되고 있습니다. ...   \n",
              "\n",
              "                                                 청원 내용               청원 시작일  \\\n",
              "350  1. ‘당일 투표’만 시행한다는 내용을 개정법안에 명시해 주십시오.\\n\\n부정선거의...  2021-12-07 16:22:05   \n",
              "\n",
              "                  청원 종료일    동의 수  청원 결과  \n",
              "350  2022-01-06 14:49:10  100000  위원회심사  "
            ]
          },
          "metadata": {},
          "output_type": "display_data"
        }
      ],
      "source": [
        "# max값의 데이터 찾아보기\n",
        "display(df[df['동의 수']==100000])\n",
        "# 2022년 청원 성립 동의수 50,000 초과인 데이터 찾기\n",
        "display(df[df['동의 수']>50000])"
      ]
    },
    {
      "cell_type": "markdown",
      "metadata": {
        "id": "WJ15LIAK6gEG"
      },
      "source": [
        "💡 동의 수가 100,000인 경우는 청원 시작일이 2021년부터였으며 청원 성립 동의 수가 100,000개 이기 때문에 나타남\n",
        "\n",
        "💡 그리고 50,000이 초과되는 경우를 찾아보니 데이터가 없었음"
      ]
    },
    {
      "cell_type": "code",
      "execution_count": null,
      "metadata": {
        "id": "-aRrn0lj6gEG",
        "outputId": "c5d3e8ea-962b-4127-e5eb-b6020e17788d"
      },
      "outputs": [
        {
          "data": {
            "text/html": [
              "<div>\n",
              "<style scoped>\n",
              "    .dataframe tbody tr th:only-of-type {\n",
              "        vertical-align: middle;\n",
              "    }\n",
              "\n",
              "    .dataframe tbody tr th {\n",
              "        vertical-align: top;\n",
              "    }\n",
              "\n",
              "    .dataframe thead th {\n",
              "        text-align: right;\n",
              "    }\n",
              "</style>\n",
              "<table border=\"1\" class=\"dataframe\">\n",
              "  <thead>\n",
              "    <tr style=\"text-align: right;\">\n",
              "      <th></th>\n",
              "      <th>청원 분야</th>\n",
              "      <th>청원 제목</th>\n",
              "      <th>청원 취지</th>\n",
              "      <th>청원 내용</th>\n",
              "      <th>청원 시작일</th>\n",
              "      <th>청원 종료일</th>\n",
              "      <th>동의 수</th>\n",
              "      <th>청원 결과</th>\n",
              "    </tr>\n",
              "  </thead>\n",
              "  <tbody>\n",
              "    <tr>\n",
              "      <th>316</th>\n",
              "      <td>보건의료</td>\n",
              "      <td>코로나 백신 접종 중단과 부작용 피해 조사에 관한 청원</td>\n",
              "      <td>안녕하십니까? \\n\\n임상시험도 끝나지 않은 채 긴급 (임시) 승인된 코로나 백신의...</td>\n",
              "      <td>1. 코로나 백신 접종 중단과 성분 정밀 조사\\n\\n실험 백신의 접종을 중단한 나라...</td>\n",
              "      <td>2022-03-28 15:45:38</td>\n",
              "      <td>2022-04-28 00:01:00</td>\n",
              "      <td>3050</td>\n",
              "      <td>동의만료폐기</td>\n",
              "    </tr>\n",
              "    <tr>\n",
              "      <th>323</th>\n",
              "      <td>보건의료</td>\n",
              "      <td>코로나 백신 접종 중단과 부작용 피해 조사에 관한 청원</td>\n",
              "      <td>안녕하십니까? \\n\\n임상시험도 끝나지 않은 채 긴급 (임시) 승인된 코로나 백신의...</td>\n",
              "      <td>1. 코로나 백신 접종 중단과 성분 정밀 조사\\n\\n실험 백신의 접종을 중단한 나라...</td>\n",
              "      <td>2022-02-08 17:10:44</td>\n",
              "      <td>2022-03-11 00:01:00</td>\n",
              "      <td>2151</td>\n",
              "      <td>동의만료폐기</td>\n",
              "    </tr>\n",
              "    <tr>\n",
              "      <th>324</th>\n",
              "      <td>보건의료</td>\n",
              "      <td>정상 일상 복귀와 반민주 방역 금지에 관한 청원</td>\n",
              "      <td>안녕하십니까? \\n\\n저는 건강전문작가로 일하는 이송미라고 합니다. 20년 전, 어...</td>\n",
              "      <td>1. CDC가 승인 철회한 PCR 비롯해 모든 코로나 검사 즉각 중단 \\n\\n코로나...</td>\n",
              "      <td>2022-02-08 17:10:59</td>\n",
              "      <td>2022-03-11 00:01:00</td>\n",
              "      <td>2070</td>\n",
              "      <td>동의만료폐기</td>\n",
              "    </tr>\n",
              "    <tr>\n",
              "      <th>338</th>\n",
              "      <td>보건의료</td>\n",
              "      <td>정상 일상 복귀와 반민주 방역 금지에 관한 청원</td>\n",
              "      <td>안녕하십니까? \\n\\n저는 건강전문작가로 일하는 이송미라고 합니다. 20년 전, 어...</td>\n",
              "      <td>1. 외국 법원들이 ‘진단에 부적합’ 판결한 코로나 검사 즉각 중단   \\n\\n코로...</td>\n",
              "      <td>2021-12-27 15:46:10</td>\n",
              "      <td>2022-01-27 00:01:00</td>\n",
              "      <td>6405</td>\n",
              "      <td>동의만료폐기</td>\n",
              "    </tr>\n",
              "    <tr>\n",
              "      <th>346</th>\n",
              "      <td>수사/법무/사법제도</td>\n",
              "      <td>양승태 전 대법원장 재임기간 중의 사법농단 의혹사건 피해자 구제를 위한 특별법안 제...</td>\n",
              "      <td>양승태 전 대법원장 체제하에서의 대법원이 상고 법원 설치 등 특정 목적을  관철 시...</td>\n",
              "      <td>제2조(정의) 이 법에서 사용하는 용어의 뜻은 다음과 같다.\\n1. “사법농단피해자...</td>\n",
              "      <td>2021-12-13 17:47:48</td>\n",
              "      <td>2022-01-13 00:01:00</td>\n",
              "      <td>429</td>\n",
              "      <td>동의만료폐기</td>\n",
              "    </tr>\n",
              "  </tbody>\n",
              "</table>\n",
              "</div>"
            ],
            "text/plain": [
              "          청원 분야                                              청원 제목  \\\n",
              "316        보건의료                     코로나 백신 접종 중단과 부작용 피해 조사에 관한 청원   \n",
              "323        보건의료                     코로나 백신 접종 중단과 부작용 피해 조사에 관한 청원   \n",
              "324        보건의료                         정상 일상 복귀와 반민주 방역 금지에 관한 청원   \n",
              "338        보건의료                         정상 일상 복귀와 반민주 방역 금지에 관한 청원   \n",
              "346  수사/법무/사법제도  양승태 전 대법원장 재임기간 중의 사법농단 의혹사건 피해자 구제를 위한 특별법안 제...   \n",
              "\n",
              "                                                 청원 취지  \\\n",
              "316  안녕하십니까? \\n\\n임상시험도 끝나지 않은 채 긴급 (임시) 승인된 코로나 백신의...   \n",
              "323  안녕하십니까? \\n\\n임상시험도 끝나지 않은 채 긴급 (임시) 승인된 코로나 백신의...   \n",
              "324  안녕하십니까? \\n\\n저는 건강전문작가로 일하는 이송미라고 합니다. 20년 전, 어...   \n",
              "338  안녕하십니까? \\n\\n저는 건강전문작가로 일하는 이송미라고 합니다. 20년 전, 어...   \n",
              "346  양승태 전 대법원장 체제하에서의 대법원이 상고 법원 설치 등 특정 목적을  관철 시...   \n",
              "\n",
              "                                                 청원 내용               청원 시작일  \\\n",
              "316  1. 코로나 백신 접종 중단과 성분 정밀 조사\\n\\n실험 백신의 접종을 중단한 나라...  2022-03-28 15:45:38   \n",
              "323  1. 코로나 백신 접종 중단과 성분 정밀 조사\\n\\n실험 백신의 접종을 중단한 나라...  2022-02-08 17:10:44   \n",
              "324  1. CDC가 승인 철회한 PCR 비롯해 모든 코로나 검사 즉각 중단 \\n\\n코로나...  2022-02-08 17:10:59   \n",
              "338  1. 외국 법원들이 ‘진단에 부적합’ 판결한 코로나 검사 즉각 중단   \\n\\n코로...  2021-12-27 15:46:10   \n",
              "346  제2조(정의) 이 법에서 사용하는 용어의 뜻은 다음과 같다.\\n1. “사법농단피해자...  2021-12-13 17:47:48   \n",
              "\n",
              "                  청원 종료일  동의 수   청원 결과  \n",
              "316  2022-04-28 00:01:00  3050  동의만료폐기  \n",
              "323  2022-03-11 00:01:00  2151  동의만료폐기  \n",
              "324  2022-03-11 00:01:00  2070  동의만료폐기  \n",
              "338  2022-01-27 00:01:00  6405  동의만료폐기  \n",
              "346  2022-01-13 00:01:00   429  동의만료폐기  "
            ]
          },
          "metadata": {},
          "output_type": "display_data"
        },
        {
          "data": {
            "text/html": [
              "<div>\n",
              "<style scoped>\n",
              "    .dataframe tbody tr th:only-of-type {\n",
              "        vertical-align: middle;\n",
              "    }\n",
              "\n",
              "    .dataframe tbody tr th {\n",
              "        vertical-align: top;\n",
              "    }\n",
              "\n",
              "    .dataframe thead th {\n",
              "        text-align: right;\n",
              "    }\n",
              "</style>\n",
              "<table border=\"1\" class=\"dataframe\">\n",
              "  <thead>\n",
              "    <tr style=\"text-align: right;\">\n",
              "      <th></th>\n",
              "      <th>청원 분야</th>\n",
              "      <th>청원 제목</th>\n",
              "      <th>청원 취지</th>\n",
              "      <th>청원 내용</th>\n",
              "      <th>청원 시작일</th>\n",
              "      <th>청원 종료일</th>\n",
              "      <th>동의 수</th>\n",
              "      <th>청원 결과</th>\n",
              "    </tr>\n",
              "  </thead>\n",
              "  <tbody>\n",
              "    <tr>\n",
              "      <th>139</th>\n",
              "      <td>수사/법무/사법제도</td>\n",
              "      <td>양승태 전대법원장 재임기간중의 사법 농단 피해자 구제를 위한 특별 법안 제정및 김용...</td>\n",
              "      <td>양승태 전 대법원장 체제하에서의 대법원이 상고 법원 \\n설치 등 특정 목적을 관철 ...</td>\n",
              "      <td># 아래 관련 파일 첨부 참조 요망 #\\n제2조(정의) 이 법에서 사용하는 용어의 ...</td>\n",
              "      <td>2022-08-09 17:03:55</td>\n",
              "      <td>2022-09-09 00:01:00</td>\n",
              "      <td>353</td>\n",
              "      <td>동의만료폐기</td>\n",
              "    </tr>\n",
              "    <tr>\n",
              "      <th>201</th>\n",
              "      <td>수사/법무/사법제도</td>\n",
              "      <td>양승태 전대법원장 사법 농단 피해자 구제를 위한 특별 법안 제정 및 김용민 국회의원...</td>\n",
              "      <td>양승태 전 대법원장 체제하에서의 대법원이 상고 법원 \\n설치 등 특정 목적을 관철 ...</td>\n",
              "      <td># 관련 파일 첨부 참조 요망 #\\n제2조(정의) 이 법에서 사용하는 용어의 뜻은 ...</td>\n",
              "      <td>2022-06-30 15:24:47</td>\n",
              "      <td>2022-07-31 00:01:00</td>\n",
              "      <td>1073</td>\n",
              "      <td>동의만료폐기</td>\n",
              "    </tr>\n",
              "    <tr>\n",
              "      <th>281</th>\n",
              "      <td>수사/법무/사법제도</td>\n",
              "      <td>양승태 전대법원장 사법 농단 피해자 구제를 위한 특별 법안 제정및 김용민 국회 의원...</td>\n",
              "      <td>양승태 전 대법원장 체제하에서의 대법원이 상고 법원 \\n설치 등 특정 목적을 관철 ...</td>\n",
              "      <td># 관련 파일 첨부 참조 요망 #\\n제2조(정의) 이 법에서 사용하는 용어의 뜻은 ...</td>\n",
              "      <td>2022-05-25 16:24:22</td>\n",
              "      <td>2022-06-26 00:01:00</td>\n",
              "      <td>2352</td>\n",
              "      <td>동의만료폐기</td>\n",
              "    </tr>\n",
              "    <tr>\n",
              "      <th>346</th>\n",
              "      <td>수사/법무/사법제도</td>\n",
              "      <td>양승태 전 대법원장 재임기간 중의 사법농단 의혹사건 피해자 구제를 위한 특별법안 제...</td>\n",
              "      <td>양승태 전 대법원장 체제하에서의 대법원이 상고 법원 설치 등 특정 목적을  관철 시...</td>\n",
              "      <td>제2조(정의) 이 법에서 사용하는 용어의 뜻은 다음과 같다.\\n1. “사법농단피해자...</td>\n",
              "      <td>2021-12-13 17:47:48</td>\n",
              "      <td>2022-01-13 00:01:00</td>\n",
              "      <td>429</td>\n",
              "      <td>동의만료폐기</td>\n",
              "    </tr>\n",
              "  </tbody>\n",
              "</table>\n",
              "</div>"
            ],
            "text/plain": [
              "          청원 분야                                              청원 제목  \\\n",
              "139  수사/법무/사법제도  양승태 전대법원장 재임기간중의 사법 농단 피해자 구제를 위한 특별 법안 제정및 김용...   \n",
              "201  수사/법무/사법제도  양승태 전대법원장 사법 농단 피해자 구제를 위한 특별 법안 제정 및 김용민 국회의원...   \n",
              "281  수사/법무/사법제도  양승태 전대법원장 사법 농단 피해자 구제를 위한 특별 법안 제정및 김용민 국회 의원...   \n",
              "346  수사/법무/사법제도  양승태 전 대법원장 재임기간 중의 사법농단 의혹사건 피해자 구제를 위한 특별법안 제...   \n",
              "\n",
              "                                                 청원 취지  \\\n",
              "139  양승태 전 대법원장 체제하에서의 대법원이 상고 법원 \\n설치 등 특정 목적을 관철 ...   \n",
              "201  양승태 전 대법원장 체제하에서의 대법원이 상고 법원 \\n설치 등 특정 목적을 관철 ...   \n",
              "281  양승태 전 대법원장 체제하에서의 대법원이 상고 법원 \\n설치 등 특정 목적을 관철 ...   \n",
              "346  양승태 전 대법원장 체제하에서의 대법원이 상고 법원 설치 등 특정 목적을  관철 시...   \n",
              "\n",
              "                                                 청원 내용               청원 시작일  \\\n",
              "139  # 아래 관련 파일 첨부 참조 요망 #\\n제2조(정의) 이 법에서 사용하는 용어의 ...  2022-08-09 17:03:55   \n",
              "201  # 관련 파일 첨부 참조 요망 #\\n제2조(정의) 이 법에서 사용하는 용어의 뜻은 ...  2022-06-30 15:24:47   \n",
              "281  # 관련 파일 첨부 참조 요망 #\\n제2조(정의) 이 법에서 사용하는 용어의 뜻은 ...  2022-05-25 16:24:22   \n",
              "346  제2조(정의) 이 법에서 사용하는 용어의 뜻은 다음과 같다.\\n1. “사법농단피해자...  2021-12-13 17:47:48   \n",
              "\n",
              "                  청원 종료일  동의 수   청원 결과  \n",
              "139  2022-09-09 00:01:00   353  동의만료폐기  \n",
              "201  2022-07-31 00:01:00  1073  동의만료폐기  \n",
              "281  2022-06-26 00:01:00  2352  동의만료폐기  \n",
              "346  2022-01-13 00:01:00   429  동의만료폐기  "
            ]
          },
          "metadata": {},
          "output_type": "display_data"
        },
        {
          "data": {
            "text/html": [
              "<div>\n",
              "<style scoped>\n",
              "    .dataframe tbody tr th:only-of-type {\n",
              "        vertical-align: middle;\n",
              "    }\n",
              "\n",
              "    .dataframe tbody tr th {\n",
              "        vertical-align: top;\n",
              "    }\n",
              "\n",
              "    .dataframe thead th {\n",
              "        text-align: right;\n",
              "    }\n",
              "</style>\n",
              "<table border=\"1\" class=\"dataframe\">\n",
              "  <thead>\n",
              "    <tr style=\"text-align: right;\">\n",
              "      <th></th>\n",
              "      <th>청원 분야</th>\n",
              "      <th>청원 제목</th>\n",
              "      <th>청원 취지</th>\n",
              "      <th>청원 내용</th>\n",
              "      <th>청원 시작일</th>\n",
              "      <th>청원 종료일</th>\n",
              "      <th>동의 수</th>\n",
              "      <th>청원 결과</th>\n",
              "    </tr>\n",
              "  </thead>\n",
              "  <tbody>\n",
              "    <tr>\n",
              "      <th>281</th>\n",
              "      <td>수사/법무/사법제도</td>\n",
              "      <td>양승태 전대법원장 사법 농단 피해자 구제를 위한 특별 법안 제정및 김용민 국회 의원...</td>\n",
              "      <td>양승태 전 대법원장 체제하에서의 대법원이 상고 법원 \\n설치 등 특정 목적을 관철 ...</td>\n",
              "      <td># 관련 파일 첨부 참조 요망 #\\n제2조(정의) 이 법에서 사용하는 용어의 뜻은 ...</td>\n",
              "      <td>2022-05-25 16:24:22</td>\n",
              "      <td>2022-06-26 00:01:00</td>\n",
              "      <td>2352</td>\n",
              "      <td>동의만료폐기</td>\n",
              "    </tr>\n",
              "  </tbody>\n",
              "</table>\n",
              "</div>"
            ],
            "text/plain": [
              "          청원 분야                                              청원 제목  \\\n",
              "281  수사/법무/사법제도  양승태 전대법원장 사법 농단 피해자 구제를 위한 특별 법안 제정및 김용민 국회 의원...   \n",
              "\n",
              "                                                 청원 취지  \\\n",
              "281  양승태 전 대법원장 체제하에서의 대법원이 상고 법원 \\n설치 등 특정 목적을 관철 ...   \n",
              "\n",
              "                                                 청원 내용               청원 시작일  \\\n",
              "281  # 관련 파일 첨부 참조 요망 #\\n제2조(정의) 이 법에서 사용하는 용어의 뜻은 ...  2022-05-25 16:24:22   \n",
              "\n",
              "                  청원 종료일  동의 수   청원 결과  \n",
              "281  2022-06-26 00:01:00  2352  동의만료폐기  "
            ]
          },
          "metadata": {},
          "output_type": "display_data"
        }
      ],
      "source": [
        "display(df[df['청원 제목'].duplicated() == True])\n",
        "display(df[df['청원 취지'].duplicated() == True])\n",
        "display(df[df['청원 내용'].duplicated() == True])"
      ]
    },
    {
      "cell_type": "markdown",
      "metadata": {
        "id": "k2leihC96gEH"
      },
      "source": [
        "📝object 요약을 통해서 청원 제목이 중복되는 데이터가 있음을 확인할 수 있었다.\n",
        "- 총 데이터의 수는 351개이며 청원의 제목 개수가 346개임을 확인 할 수 있다.\n",
        "\n",
        "📝또한 청원 취지와 내용도 중복되는 데이터가 있음을 확인 가능하다.\n",
        "\n",
        "💡duplicated는 중복된 값 1개를 보여주지 않기 때문에 위치 확인이 어려움"
      ]
    },
    {
      "cell_type": "code",
      "execution_count": null,
      "metadata": {
        "id": "LH8Pyyr06gEH",
        "outputId": "7ac13724-5b69-4736-ec06-fa46400e599f"
      },
      "outputs": [
        {
          "data": {
            "image/png": "[encoded data removed]",
            "text/plain": [
              "<Figure size 432x288 with 1 Axes>"
            ]
          },
          "metadata": {
            "needs_background": "light"
          },
          "output_type": "display_data"
        }
      ],
      "source": [
        "# 이상치 확인\n",
        "##  IQR method\n",
        "import matplotlib.pyplot as plt\n",
        "\n",
        "fig, ax = plt.subplots()\n",
        "ax.boxplot(df['동의 수'])\n",
        "plt.show()"
      ]
    },
    {
      "cell_type": "markdown",
      "metadata": {
        "id": "IRe2Hnga6gEI"
      },
      "source": [
        "📝 이상치가 존재함을 확인할 수 있음\n",
        "\n",
        "💡 값이 100,000인 것을 보아 아까 위에서 찾은 max 데이터임"
      ]
    },
    {
      "cell_type": "code",
      "execution_count": null,
      "metadata": {
        "id": "nDeg34uN6gEI",
        "outputId": "578fc4bc-8b66-4112-cf25-5de21c34ce95"
      },
      "outputs": [
        {
          "data": {
            "text/html": [
              "<div>\n",
              "<style scoped>\n",
              "    .dataframe tbody tr th:only-of-type {\n",
              "        vertical-align: middle;\n",
              "    }\n",
              "\n",
              "    .dataframe tbody tr th {\n",
              "        vertical-align: top;\n",
              "    }\n",
              "\n",
              "    .dataframe thead th {\n",
              "        text-align: right;\n",
              "    }\n",
              "</style>\n",
              "<table border=\"1\" class=\"dataframe\">\n",
              "  <thead>\n",
              "    <tr style=\"text-align: right;\">\n",
              "      <th></th>\n",
              "      <th>청원 분야</th>\n",
              "      <th>청원 제목</th>\n",
              "      <th>청원 취지</th>\n",
              "      <th>청원 내용</th>\n",
              "      <th>청원 시작일</th>\n",
              "      <th>청원 종료일</th>\n",
              "      <th>동의 수</th>\n",
              "      <th>청원 결과</th>\n",
              "    </tr>\n",
              "  </thead>\n",
              "  <tbody>\n",
              "    <tr>\n",
              "      <th>4</th>\n",
              "      <td>재정/세제/금융/예산</td>\n",
              "      <td>가상자산 위믹스 코인 거래지원종료에 관한 DAXA의 처리 투명성과 갑질논란에 관한 청원</td>\n",
              "      <td>한국거래소협회 DAXA에 의한 위믹스코인 거래지원 종료에 대한 투명성 조사와 갑질 ...</td>\n",
              "      <td>한국 거래소협회 DAXA는 10월27일 계획유통량과 실제유통량의 차이를 원인으로 삼...</td>\n",
              "      <td>2022-11-28 16:40:33</td>\n",
              "      <td>2022-12-29 00:01:00</td>\n",
              "      <td>6165</td>\n",
              "      <td>동의만료폐기</td>\n",
              "    </tr>\n",
              "    <tr>\n",
              "      <th>17</th>\n",
              "      <td>재난/안전/환경</td>\n",
              "      <td>곰 사육 금지 및 보호에 관한 특별법안 통과에 관한 청원</td>\n",
              "      <td>‘곰 사육 금지 및 보호에 관한 특별법안’ 국회 통과를 통해 부끄러운 곰 사육 산업...</td>\n",
              "      <td>‘웅담채취용 사육곰’ \\r\\n모든 곰은 국제적 멸종위기종으로 철저히 보호받습니다. ...</td>\n",
              "      <td>2022-11-22 16:33:36</td>\n",
              "      <td>2022-12-23 00:01:00</td>\n",
              "      <td>21560</td>\n",
              "      <td>동의만료폐기</td>\n",
              "    </tr>\n",
              "    <tr>\n",
              "      <th>33</th>\n",
              "      <td>수사/법무/사법제도</td>\n",
              "      <td>해당 청원은 이해 당사자의 요청에 의해 재심 중입니다</td>\n",
              "      <td>해당 청원은 이해 당사자의 요청에 의해 재심 중입니다</td>\n",
              "      <td>해당 청원은 「정보통신망 이용촉진 및 정보보호 등에 관한 법률」 제44조의2(정보의...</td>\n",
              "      <td>2022-11-08 15:45:24</td>\n",
              "      <td>2022-11-18 14:07:38</td>\n",
              "      <td>16721</td>\n",
              "      <td>진행중철회</td>\n",
              "    </tr>\n",
              "    <tr>\n",
              "      <th>36</th>\n",
              "      <td>수사/법무/사법제도</td>\n",
              "      <td>연쇄 성범죄자 수원발발이 박○○의 퇴거를 강력히  촉구합니다에 관한 청원</td>\n",
              "      <td>저는 경기도 화성시 봉담읍 수기초등학교 운영위원장  입니다\\r\\n\\r\\n연쇄성범죄자...</td>\n",
              "      <td>- 10월 28일(금) 성범죄자의 어머니(수원 호매실 거주)께서 봉담읍 원룸촌에서 ...</td>\n",
              "      <td>2022-11-08 15:46:37</td>\n",
              "      <td>2022-12-05 07:03:56</td>\n",
              "      <td>50000</td>\n",
              "      <td>위원회심사</td>\n",
              "    </tr>\n",
              "    <tr>\n",
              "      <th>41</th>\n",
              "      <td>재난/안전/환경</td>\n",
              "      <td>할로윈 행사 영구 폐지 요청에 관한 청원</td>\n",
              "      <td>이번 이태원 할로윈 대참사가 다시는 발생하지 않도록 하기위함입니다</td>\n",
              "      <td>이태원 할로윈 대 참사를 방송하면서\\r\\n기자는\\r\\n이 할로윈 행사를 앞으로도 막...</td>\n",
              "      <td>2022-11-03 17:47:29</td>\n",
              "      <td>2022-12-04 00:01:00</td>\n",
              "      <td>7741</td>\n",
              "      <td>동의만료폐기</td>\n",
              "    </tr>\n",
              "    <tr>\n",
              "      <th>...</th>\n",
              "      <td>...</td>\n",
              "      <td>...</td>\n",
              "      <td>...</td>\n",
              "      <td>...</td>\n",
              "      <td>...</td>\n",
              "      <td>...</td>\n",
              "      <td>...</td>\n",
              "      <td>...</td>\n",
              "    </tr>\n",
              "    <tr>\n",
              "      <th>340</th>\n",
              "      <td>수사/법무/사법제도</td>\n",
              "      <td>코로나 백신 특검 요청에 관한 청원</td>\n",
              "      <td>너무나도 많은 국민이 백신 부작용으로 큰 피해를 보고 있고, 정작 최선의 대안은 백...</td>\n",
              "      <td>에코헬스 얼라이언스(EcoHealth Alliance)의 회장 피터 다작(Peter...</td>\n",
              "      <td>2021-12-21 09:41:41</td>\n",
              "      <td>2022-01-21 00:01:00</td>\n",
              "      <td>27092</td>\n",
              "      <td>동의만료폐기</td>\n",
              "    </tr>\n",
              "    <tr>\n",
              "      <th>341</th>\n",
              "      <td>산업/통상</td>\n",
              "      <td>노점상 생계보호 특별법 제정에 관한 청원</td>\n",
              "      <td>노점상은 우리 사회에 가장 오래된 상거래 가운데 하나입니다. 현재 25만~30만명의...</td>\n",
              "      <td>노점상이 탈세를 하면서 불법으로 영업한다는 논리는 전혀 맞지 않은 이야기입니다.\\r...</td>\n",
              "      <td>2021-12-21 09:48:23</td>\n",
              "      <td>2022-01-20 15:27:21</td>\n",
              "      <td>50000</td>\n",
              "      <td>위원회심사</td>\n",
              "    </tr>\n",
              "    <tr>\n",
              "      <th>342</th>\n",
              "      <td>인권/성평등/노동</td>\n",
              "      <td>돌봄의 국가책임을 규정하고, 110만 돌봄노동자들의 처우개선을 담은 돌봄기본법 제정...</td>\n",
              "      <td>코로나19는 돌봄 없이 이 사회가 유지될 수 없음을 가르쳐주었습니다. 코로나가 만든...</td>\n",
              "      <td>1. 110만 돌봄노동자들의 법!\\n돌봄노동자의 경력인정, 유급휴가, 퇴직급여, 방...</td>\n",
              "      <td>2021-12-21 09:42:05</td>\n",
              "      <td>2022-01-19 17:51:43</td>\n",
              "      <td>50000</td>\n",
              "      <td>위원회심사</td>\n",
              "    </tr>\n",
              "    <tr>\n",
              "      <th>343</th>\n",
              "      <td>농업/임업/수산업/축산업</td>\n",
              "      <td>농업·농촌·농민기본법에 관한 청원</td>\n",
              "      <td>곡물자급률 21%(사료 포함), 식량 수입 5위, OECD 회원국 중 식량자급률 최...</td>\n",
              "      <td>WEP(유엔세계식량계획)는 코로나19의 경제적 여파로 급성 식량 위기에 처한 인구가...</td>\n",
              "      <td>2021-12-21 09:48:42</td>\n",
              "      <td>2022-01-19 08:07:36</td>\n",
              "      <td>50000</td>\n",
              "      <td>위원회심사</td>\n",
              "    </tr>\n",
              "    <tr>\n",
              "      <th>350</th>\n",
              "      <td>정치/선거/국회운영</td>\n",
              "      <td>22년 3월 대선에서 수개표 시행을 위한 공직선거법 개정에 관한 청원</td>\n",
              "      <td>공직선거에서 전자개표가 도입된 이래 끊임없이 부정선거의 논란이 계속되고 있습니다. ...</td>\n",
              "      <td>1. ‘당일 투표’만 시행한다는 내용을 개정법안에 명시해 주십시오.\\n\\n부정선거의...</td>\n",
              "      <td>2021-12-07 16:22:05</td>\n",
              "      <td>2022-01-06 14:49:10</td>\n",
              "      <td>100000</td>\n",
              "      <td>위원회심사</td>\n",
              "    </tr>\n",
              "  </tbody>\n",
              "</table>\n",
              "<p>61 rows × 8 columns</p>\n",
              "</div>"
            ],
            "text/plain": [
              "             청원 분야                                              청원 제목  \\\n",
              "4      재정/세제/금융/예산   가상자산 위믹스 코인 거래지원종료에 관한 DAXA의 처리 투명성과 갑질논란에 관한 청원   \n",
              "17        재난/안전/환경                    곰 사육 금지 및 보호에 관한 특별법안 통과에 관한 청원   \n",
              "33      수사/법무/사법제도                      해당 청원은 이해 당사자의 요청에 의해 재심 중입니다   \n",
              "36      수사/법무/사법제도           연쇄 성범죄자 수원발발이 박○○의 퇴거를 강력히  촉구합니다에 관한 청원   \n",
              "41        재난/안전/환경                             할로윈 행사 영구 폐지 요청에 관한 청원   \n",
              "..             ...                                                ...   \n",
              "340     수사/법무/사법제도                                코로나 백신 특검 요청에 관한 청원   \n",
              "341          산업/통상                             노점상 생계보호 특별법 제정에 관한 청원   \n",
              "342      인권/성평등/노동  돌봄의 국가책임을 규정하고, 110만 돌봄노동자들의 처우개선을 담은 돌봄기본법 제정...   \n",
              "343  농업/임업/수산업/축산업                                 농업·농촌·농민기본법에 관한 청원   \n",
              "350     정치/선거/국회운영             22년 3월 대선에서 수개표 시행을 위한 공직선거법 개정에 관한 청원   \n",
              "\n",
              "                                                 청원 취지  \\\n",
              "4    한국거래소협회 DAXA에 의한 위믹스코인 거래지원 종료에 대한 투명성 조사와 갑질 ...   \n",
              "17   ‘곰 사육 금지 및 보호에 관한 특별법안’ 국회 통과를 통해 부끄러운 곰 사육 산업...   \n",
              "33                       해당 청원은 이해 당사자의 요청에 의해 재심 중입니다   \n",
              "36   저는 경기도 화성시 봉담읍 수기초등학교 운영위원장  입니다\\r\\n\\r\\n연쇄성범죄자...   \n",
              "41                이번 이태원 할로윈 대참사가 다시는 발생하지 않도록 하기위함입니다   \n",
              "..                                                 ...   \n",
              "340  너무나도 많은 국민이 백신 부작용으로 큰 피해를 보고 있고, 정작 최선의 대안은 백...   \n",
              "341  노점상은 우리 사회에 가장 오래된 상거래 가운데 하나입니다. 현재 25만~30만명의...   \n",
              "342  코로나19는 돌봄 없이 이 사회가 유지될 수 없음을 가르쳐주었습니다. 코로나가 만든...   \n",
              "343  곡물자급률 21%(사료 포함), 식량 수입 5위, OECD 회원국 중 식량자급률 최...   \n",
              "350  공직선거에서 전자개표가 도입된 이래 끊임없이 부정선거의 논란이 계속되고 있습니다. ...   \n",
              "\n",
              "                                                 청원 내용               청원 시작일  \\\n",
              "4    한국 거래소협회 DAXA는 10월27일 계획유통량과 실제유통량의 차이를 원인으로 삼...  2022-11-28 16:40:33   \n",
              "17   ‘웅담채취용 사육곰’ \\r\\n모든 곰은 국제적 멸종위기종으로 철저히 보호받습니다. ...  2022-11-22 16:33:36   \n",
              "33   해당 청원은 「정보통신망 이용촉진 및 정보보호 등에 관한 법률」 제44조의2(정보의...  2022-11-08 15:45:24   \n",
              "36   - 10월 28일(금) 성범죄자의 어머니(수원 호매실 거주)께서 봉담읍 원룸촌에서 ...  2022-11-08 15:46:37   \n",
              "41   이태원 할로윈 대 참사를 방송하면서\\r\\n기자는\\r\\n이 할로윈 행사를 앞으로도 막...  2022-11-03 17:47:29   \n",
              "..                                                 ...                  ...   \n",
              "340  에코헬스 얼라이언스(EcoHealth Alliance)의 회장 피터 다작(Peter...  2021-12-21 09:41:41   \n",
              "341  노점상이 탈세를 하면서 불법으로 영업한다는 논리는 전혀 맞지 않은 이야기입니다.\\r...  2021-12-21 09:48:23   \n",
              "342  1. 110만 돌봄노동자들의 법!\\n돌봄노동자의 경력인정, 유급휴가, 퇴직급여, 방...  2021-12-21 09:42:05   \n",
              "343  WEP(유엔세계식량계획)는 코로나19의 경제적 여파로 급성 식량 위기에 처한 인구가...  2021-12-21 09:48:42   \n",
              "350  1. ‘당일 투표’만 시행한다는 내용을 개정법안에 명시해 주십시오.\\n\\n부정선거의...  2021-12-07 16:22:05   \n",
              "\n",
              "                  청원 종료일    동의 수   청원 결과  \n",
              "4    2022-12-29 00:01:00    6165  동의만료폐기  \n",
              "17   2022-12-23 00:01:00   21560  동의만료폐기  \n",
              "33   2022-11-18 14:07:38   16721   진행중철회  \n",
              "36   2022-12-05 07:03:56   50000   위원회심사  \n",
              "41   2022-12-04 00:01:00    7741  동의만료폐기  \n",
              "..                   ...     ...     ...  \n",
              "340  2022-01-21 00:01:00   27092  동의만료폐기  \n",
              "341  2022-01-20 15:27:21   50000   위원회심사  \n",
              "342  2022-01-19 17:51:43   50000   위원회심사  \n",
              "343  2022-01-19 08:07:36   50000   위원회심사  \n",
              "350  2022-01-06 14:49:10  100000   위원회심사  \n",
              "\n",
              "[61 rows x 8 columns]"
            ]
          },
          "execution_count": 76,
          "metadata": {},
          "output_type": "execute_result"
        }
      ],
      "source": [
        "# 사분위수 구하기 \n",
        "q1 = df.describe()['동의 수']['25%']\n",
        "q3 = df.describe()['동의 수']['75%']\n",
        "\n",
        "# IQR값 구하기 \n",
        "iqr = q3-q1\n",
        "\n",
        "# 이상치 \n",
        "df[df['동의 수'] > q3 + 1.5 * iqr]"
      ]
    },
    {
      "cell_type": "markdown",
      "metadata": {
        "id": "yqn7vwSx6gEI"
      },
      "source": [
        "📝 IQR로 구한 이상치는 총 61개가 있지만 청원이 성립되기 위해서는 50,000개가 되어야 하고 동의를 받은 값이기 때문에 변경할 수가 없다."
      ]
    },
    {
      "cell_type": "markdown",
      "metadata": {
        "id": "zxIrk7RA6gEJ"
      },
      "source": [
        "### 🔥결론🔥\n",
        "데이터의 결측치와 중복값을 확인해 본 결과 데이터 자체의 중복되거나 결측된 값은 없었으며\n",
        "\n",
        "객체 타입의 데이터를 요약한 값을 확인해 본 결과 같은 제목, 취지, 내용인 청원이 있었다.\n",
        "\n",
        "수치형 데이터를 요약 및 이상치를 찾아본 결과 2021년에 시작한 청원에서 성립 동의 수가 100,000여야 가능함을 확인할 수 있었고,\n",
        "\n",
        "데이터를 분석할 때 성립된 청원과 동의만료폐기 청원으로 나눠서 분석할 것이다."
      ]
    },
    {
      "cell_type": "markdown",
      "metadata": {
        "id": "oDvocQMN6gEJ"
      },
      "source": [
        "# 데이터 시각화"
      ]
    },
    {
      "cell_type": "code",
      "execution_count": null,
      "metadata": {
        "id": "KpCtNPQb6gEJ"
      },
      "outputs": [],
      "source": [
        "# 라이브러리 불러오기\n",
        "\n",
        "import seaborn as sns\n",
        "import matplotlib.pyplot as plt\n",
        "import numpy as np\n",
        "\n",
        "%matplotlib inline"
      ]
    },
    {
      "cell_type": "code",
      "execution_count": null,
      "metadata": {
        "id": "t3b61KWO6gEK"
      },
      "outputs": [],
      "source": [
        "# 시각화를 위한 폰트 설정\n",
        "import os\n",
        "\n",
        "if os.name == \"posix\":\n",
        "    sns.set(font=\"AppleGothic\")\n",
        "elif os.name == \"nt\":\n",
        "    sns.set(font=\"Malgun Gothic\")\n",
        "    \n",
        "# 레티나 설정을 해주면 글씨가 좀더 선명하게 보임\n",
        "# 폰트의 주변이 흐릿하게 보이는 것을 방지\n",
        "%config InlineBackend.figure_format='retina'"
      ]
    },
    {
      "cell_type": "markdown",
      "metadata": {
        "id": "Dc9bQjwj6gEK"
      },
      "source": [
        "## \t청원 분야 분포 확인"
      ]
    },
    {
      "cell_type": "code",
      "execution_count": null,
      "metadata": {
        "id": "uDUDnzjI6gEK",
        "outputId": "e213fc56-03f2-4c2c-e497-7e2cede6adbd"
      },
      "outputs": [
        {
          "data": {
            "text/plain": [
              "Text(0, 0.5, '')"
            ]
          },
          "execution_count": 136,
          "metadata": {},
          "output_type": "execute_result"
        },
        {
          "data": {
            "image/png": "[encoded data removed]",
            "text/plain": [
              "<Figure size 576x576 with 1 Axes>"
            ]
          },
          "metadata": {
            "image/png": {
              "height": 464,
              "width": 629
            }
          },
          "output_type": "display_data"
        }
      ],
      "source": [
        "df['청원 분야'].value_counts().plot.pie(autopct='%1.1f%%', figsize=(8, 8))\n",
        "plt.title('2022년 국민 청원 분야 분포')\n",
        "plt.ylabel('')"
      ]
    },
    {
      "cell_type": "markdown",
      "metadata": {
        "id": "6kix-aRZ6gEL"
      },
      "source": [
        "📝청원 수가 가장 많은 분야는 보건 의료이며 가장 작은 분야는 저출산/고령화/아동/청소년/가족이다.\n",
        "\n",
        "📝 다음 가장 많은 분야는 국토/해양/교통, 그 다음은 수사/법무/사법제도이다.\n",
        "\n",
        "💡 2022년에도 해결되지 못한 코로나 때문에 많은 것으로 추정\n",
        "자세한 것은 워드 클라우드를 통해 확인해볼 것"
      ]
    },
    {
      "cell_type": "markdown",
      "metadata": {
        "id": "lDgMyVd56gEL"
      },
      "source": [
        "### 추가) 보건의료 분야 단어 클라우딩 해보기"
      ]
    },
    {
      "cell_type": "code",
      "execution_count": null,
      "metadata": {
        "id": "ZVtBd5am6gEL",
        "outputId": "4b41b4ca-1c58-402c-d9fa-de549a0409aa"
      },
      "outputs": [
        {
          "ename": "KeyError",
          "evalue": "'count'",
          "output_type": "error",
          "traceback": [
            "\u001b[1;31m---------------------------------------------------------------------------\u001b[0m",
            "\u001b[1;31mKeyError\u001b[0m                                  Traceback (most recent call last)",
            "\u001b[1;32m~\\AppData\\Local\\Temp/ipykernel_13428/438543642.py\u001b[0m in \u001b[0;36m<module>\u001b[1;34m\u001b[0m\n\u001b[0;32m      3\u001b[0m \u001b[1;32mfrom\u001b[0m \u001b[0mPIL\u001b[0m \u001b[1;32mimport\u001b[0m \u001b[0mImage\u001b[0m\u001b[1;33m\u001b[0m\u001b[1;33m\u001b[0m\u001b[0m\n\u001b[0;32m      4\u001b[0m \u001b[1;33m\u001b[0m\u001b[0m\n\u001b[1;32m----> 5\u001b[1;33m \u001b[0mwc\u001b[0m \u001b[1;33m=\u001b[0m \u001b[0mdf\u001b[0m\u001b[1;33m[\u001b[0m\u001b[0mdf\u001b[0m\u001b[1;33m[\u001b[0m\u001b[1;34m'청원 분야'\u001b[0m\u001b[1;33m]\u001b[0m \u001b[1;33m==\u001b[0m \u001b[1;34m'보건의료'\u001b[0m\u001b[1;33m]\u001b[0m\u001b[1;33m.\u001b[0m\u001b[0mto_dict\u001b[0m\u001b[1;33m(\u001b[0m\u001b[1;33m)\u001b[0m\u001b[1;33m[\u001b[0m\u001b[1;34m\"count\"\u001b[0m\u001b[1;33m]\u001b[0m\u001b[1;33m\u001b[0m\u001b[1;33m\u001b[0m\u001b[0m\n\u001b[0m\u001b[0;32m      6\u001b[0m \u001b[1;33m\u001b[0m\u001b[0m\n\u001b[0;32m      7\u001b[0m \u001b[1;31m# 워드 클라우드 생성\u001b[0m\u001b[1;33m\u001b[0m\u001b[1;33m\u001b[0m\u001b[1;33m\u001b[0m\u001b[0m\n",
            "\u001b[1;31mKeyError\u001b[0m: 'count'"
          ]
        }
      ],
      "source": [
        "# 라이브러리 가져오기\n",
        "from wordcloud import WordCloud\n",
        "from PIL import Image\n",
        "\n",
        "wc = df[df['청원 분야'] == '보건의료'].set_index(\"title\").to_dict()[\"count\"]\n",
        "\n",
        "# 워드 클라우드 생성\n",
        "wordCloud = WordCloud(\n",
        "    font_path = \"malgun\", # 폰트 지정\n",
        "    width = 400, # 워드 클라우드의 너비 지정\n",
        "    height = 400, # 워드클라우드의 높이 지정\n",
        "    max_font_size=100, # 가장 빈도수가 높은 단어의 폰트 사이즈 지정\n",
        "    background_color = 'white' # 배경색 지정\n",
        ").generate_from_frequencies(wc) # 워드 클라우드 빈도수 지정"
      ]
    },
    {
      "cell_type": "code",
      "execution_count": null,
      "metadata": {
        "id": "GgXFUrUU6gEM"
      },
      "outputs": [],
      "source": []
    }
  ],
  "metadata": {
    "colab": {
      "provenance": [],
      "include_colab_link": true
    },
    "kernelspec": {
      "display_name": "Python 3 (ipykernel)",
      "language": "python",
      "name": "python3"
    },
    "language_info": {
      "codemirror_mode": {
        "name": "ipython",
        "version": 3
      },
      "file_extension": ".py",
      "mimetype": "text/x-python",
      "name": "python",
      "nbconvert_exporter": "python",
      "pygments_lexer": "ipython3",
      "version": "3.8.10"
    }
  },
  "nbformat": 4,
  "nbformat_minor": 0
}